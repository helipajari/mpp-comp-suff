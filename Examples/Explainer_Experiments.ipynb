{
 "cells": [
  {
   "cell_type": "code",
   "id": "initial_id",
   "metadata": {
    "ExecuteTime": {
     "end_time": "2024-05-24T14:44:02.672370Z",
     "start_time": "2024-05-24T14:44:02.666385Z"
    }
   },
   "source": [
    "# Converted by Tim Stols\n",
    "# python Explainer_Experiments.py --model_name CMPNN \\\n",
    "#                                                        --attribution_name GradInput \\\n",
    "#                                                        --data_path ../MolRep/Datasets/Metabolism/admet2.1_rlm_merge.csv \\\n",
    "#                                                        --dataset_name RLM \\\n",
    "#                                                        --smiles_col COMPOUND_SMILES \\\n",
    "#                                                        --target_col CLF_LABEL \\\n",
    "#                                                        --task_type Multi-Classification \\\n",
    "#                                                        --multiclass_num_classes 3 \\\n",
    "#                                                        --output_dir ../Outputs"
   ],
   "outputs": [],
   "execution_count": 67
  },
  {
   "metadata": {
    "ExecuteTime": {
     "end_time": "2024-05-24T14:44:02.798033Z",
     "start_time": "2024-05-24T14:44:02.782077Z"
    }
   },
   "cell_type": "code",
   "source": [
    "import copy\n",
    "from datetime import datetime\n",
    "\n",
    "import numpy as np"
   ],
   "id": "5d01e66301d55fb2",
   "outputs": [],
   "execution_count": 68
  },
  {
   "metadata": {
    "ExecuteTime": {
     "end_time": "2024-05-24T14:44:02.954615Z",
     "start_time": "2024-05-24T14:44:02.945642Z"
    }
   },
   "cell_type": "code",
   "source": [
    "# OUTPUT_DIR = f'../Outputs/{datetime.now().strftime(\"%Y%m%d_%H%M%S\")}'\n",
    "# # OUTPUT_DIR = '../Outputs'\n",
    "# DATASET = '3MR'\n",
    "# \n",
    "# # GNN\n",
    "# MODEL = 'GraphNet' # Options:  ['MPNN', 'DMPNN', 'CMPNN', 'GIN', 'ECC', 'GAT', 'DGCNN', 'DiffPool', 'GraphSAGE', 'GraphNet']\n",
    "# \n",
    "# # explainer\n",
    "# ATTRIBUTION = 'IG' # Options: IG CAM MCTS GradInput GradCAM RandomBaseline\n",
    "# \n",
    "# DATAPATH = '../DataSets/3MR/toy_label_mw350.csv'\n",
    "# SMILESCOL = 'SMILES'\n",
    "# TARGETCOL = 'label_full'\n",
    "# \n",
    "# ATTRIBUTIONPATH = '../DataSets/3MR/attributions.npz'\n",
    "# \n",
    "# TASKTYPE = 'Regression' # Can be 'Multi-Classification', 'Classification', 'Regression'\n",
    "# MULTICLASS_NUM_CLASSES = 2 # Can be 3\n",
    "# TESTING = True\n",
    "# SPLITTYPE = 'defined' # Can be 'random', 'scaffold', or other defined for dataset"
   ],
   "id": "21bea3823cc4b142",
   "outputs": [],
   "execution_count": 69
  },
  {
   "metadata": {
    "ExecuteTime": {
     "end_time": "2024-05-24T14:44:02.986529Z",
     "start_time": "2024-05-24T14:44:02.979549Z"
    }
   },
   "cell_type": "code",
   "source": [
    "# OUTPUT_DIR = f'../Outputs/{datetime.now().strftime(\"%Y%m%d_%H%M%S\")}'\n",
    "# # OUTPUT_DIR = '../Outputs'\n",
    "# DATASET = 'Liver'\n",
    "# \n",
    "# # GNN\n",
    "# MODEL = 'CMPNN' # Options:  ['MPNN', 'DMPNN', 'CMPNN', 'GIN', 'ECC', 'GAT', 'DGCNN', 'DiffPool', 'GraphSAGE', 'GraphNet']\n",
    "# \n",
    "# # explainer\n",
    "# ATTRIBUTION = 'IG' # Options: IG CAM MCTS GradInput GradCAM RandomBaseline\n",
    "# \n",
    "# DATAPATH = '../Datasets/XAI/Liver/liver.csv'\n",
    "# SMILESCOL = 'SMILES'\n",
    "# TARGETCOL = 'label'\n",
    "# \n",
    "# ATTRIBUTIONPATH = '../Datasets/XAI/Liver/attributions.npz'\n",
    "# \n",
    "# TASKTYPE = 'Classification' # Can be 'Multi-Classification', 'Classification', 'Regression'\n",
    "# MULTICLASS_NUM_CLASSES = 2 # Can be 3\n",
    "# TESTING = True\n",
    "# SPLITTYPE = 'defined' # Can be 'random', 'scaffold', or other defined for dataset"
   ],
   "id": "607c8ebd7f318ebd",
   "outputs": [],
   "execution_count": 70
  },
  {
   "metadata": {
    "ExecuteTime": {
     "end_time": "2024-05-24T14:44:03.096236Z",
     "start_time": "2024-05-24T14:44:03.087262Z"
    }
   },
   "cell_type": "code",
   "source": [
    "from datetime import datetime\n",
    "OUTPUT_DIR = f'../Outputs/{datetime.now().strftime(\"%Y%m%d_%H%M%S\")}'\n",
    "# OUTPUT_DIR = '../Outputs'\n",
    "DATASET = 'Benzene'\n",
    "\n",
    "# GNN\n",
    "MODEL = 'CMPNN' # Options:  ['MPNN', 'DMPNN', 'CMPNN', 'GIN', 'ECC', 'GAT', 'DGCNN', 'DiffPool', 'GraphSAGE', 'GraphNet']\n",
    "\n",
    "# explainer\n",
    "ATTRIBUTION = 'IG' # Options: IG CAM MCTS GradInput GradCAM RandomBaseline\n",
    "\n",
    "DATAPATH = '../Datasets/XAI/Benzene/benzene_smiles.csv'\n",
    "SMILESCOL = 'SMILES'\n",
    "TARGETCOL = 'label'\n",
    "\n",
    "ATTRIBUTIONPATH = '../Datasets/XAI/Benzene/attributions.npz'\n",
    "\n",
    "TASKTYPE = 'Classification' # Can be 'Multi-Classification', 'Classification', 'Regression'\n",
    "MULTICLASS_NUM_CLASSES = 2 # Can be 3\n",
    "TESTING = True\n",
    "SPLITTYPE = 'defined' # Can be 'random', 'scaffold', or other defined for dataset"
   ],
   "id": "97e7da87e9d3f7b7",
   "outputs": [],
   "execution_count": 71
  },
  {
   "metadata": {
    "ExecuteTime": {
     "end_time": "2024-05-24T14:44:03.188987Z",
     "start_time": "2024-05-24T14:44:03.164056Z"
    }
   },
   "cell_type": "code",
   "source": [
    "import rdkit.Chem\n",
    "from MolRep.Utils.logger import Logger\n",
    "from MolRep.Explainer.explainerExperiments import ExplainerExperiments\n",
    "from MolRep.Explainer.explainerDataWrapper import ExplainerDatasetWrapper\n",
    "from MolRep.Utils.config_from_dict import Grid, Config, DatasetConfig\n",
    "from pathlib import Path\n",
    "import os\n",
    "from numba.cuda import args\n",
    "\n",
    "LOGGER_BASE = os.path.join(OUTPUT_DIR, \"Logger\", f\"{DATASET}_explainer\")\n",
    "logger = Logger(str(os.path.join(LOGGER_BASE, f\"{MODEL}_{DATASET}_explainer_by_{ATTRIBUTION}.log\")), mode='a')\n",
    "\n",
    "\n",
    "\n",
    "# output for vector groups\n",
    "data_dir = Path('../MolRep/Data')\n",
    "split_dir = Path('../MolRep/Splits')\n",
    "os.makedirs(data_dir, exist_ok=True)\n",
    "os.makedirs(split_dir, exist_ok=True)\n",
    "\n",
    "# moving down to have folders for different epoch numbers\n",
    "# svg_dir = os.path.join(OUTPUT_DIR, f\"{MODEL}_{DATASET}_explainer\", \"SVG\", f\"{ATTRIBUTION}\")\n",
    "# \n",
    "# # model output\n",
    "# output_dir = Path(OUTPUT_DIR)\n",
    "# MODELPATH = os.path.join(OUTPUT_DIR, f\"{MODEL}_{DATASET}_explainer\", f\"{MODEL}.pt\")\n",
    "# os.makedirs(OUTPUT_DIR, exist_ok=True)\n",
    "# os.makedirs(svg_dir, exist_ok=True)\n",
    "\n",
    "# torch.set_num_threads(1)\")\n",
    "data_stats = {\n",
    "            'name': DATASET,\n",
    "            'path': DATAPATH,\n",
    "            'smiles_column': SMILESCOL,\n",
    "            'target_columns': [TARGETCOL],\n",
    "            'attribution_path': ATTRIBUTIONPATH,\n",
    "            'task_type': TASKTYPE,\n",
    "            'multiclass_num_classes': MULTICLASS_NUM_CLASSES,\n",
    "            'metric_type': 'rmse' if TASKTYPE == 'Regression' else ['acc', 'auc', 'f1', 'precision', 'recall'],\n",
    "            'split_type': SPLITTYPE\n",
    "}\n",
    "\n",
    "if TESTING:\n",
    "    data_stats['additional_info'] = {\"splits\":'SPLIT'}"
   ],
   "id": "dfacd7f1cf8943f",
   "outputs": [],
   "execution_count": 72
  },
  {
   "cell_type": "code",
   "id": "b8fbd60e86ed353b",
   "metadata": {
    "collapsed": false,
    "jupyter": {
     "outputs_hidden": false
    },
    "ExecuteTime": {
     "end_time": "2024-05-24T14:44:03.326619Z",
     "start_time": "2024-05-24T14:44:03.274759Z"
    }
   },
   "source": [
    "config_file = '../MolRep/Configs/config_{}.yml'.format(MODEL)\n",
    "model_configurations = Grid(config_file)\n",
    "model_configuration = Config(**model_configurations[0])\n",
    "dataset_configuration = DatasetConfig(DATASET, data_dict=data_stats)"
   ],
   "outputs": [
    {
     "name": "stdout",
     "output_type": "stream",
     "text": [
      "CMPNN\n",
      "{'GIN': <class 'MolRep.Models.graph_based.GIN.GIN'>, 'ECC': <class 'MolRep.Models.graph_based.ECC.ECC'>, 'DGCNN': <class 'MolRep.Models.graph_based.DGCNN.DGCNN'>, 'DiffPool': <class 'MolRep.Models.graph_based.DiffPool.DiffPool'>, 'GraphSAGE': <class 'MolRep.Models.graph_based.GraphSAGE.GraphSAGE'>, 'GAT': <class 'MolRep.Models.graph_based.GAT.GAT'>, 'GraphNet': <class 'MolRep.Models.graph_based.GraphNet.GraphNet'>, 'MPNN': <class 'MolRep.Models.graph_based.MPNN.MPNN'>, 'CMPNN': <class 'MolRep.Models.graph_based.CMPNN.CMPNN'>, 'DMPNN': <class 'MolRep.Models.graph_based.DMPNN.DMPNN'>, 'MAT': <class 'MolRep.Models.sequence_based.MAT.MAT'>, 'CoMPT': <class 'MolRep.Models.sequence_based.CoMPT.CoMPT'>, 'BiLSTM': <class 'MolRep.Models.sequence_based.BiLSTM.BiLSTM'>, 'SALSTM': <class 'MolRep.Models.sequence_based.SALSTM.SALSTM'>, 'Transformer': <class 'MolRep.Models.sequence_based.Transformer.Transformer'>, 'VAE': <class 'MolRep.Models.unsupervised_based.VAE.VAE'>, 'RandomForest': <class 'MolRep.Models.unsupervised_based.RandomForest.RandomForest'>, 'XGboost': <class 'MolRep.Models.unsupervised_based.XGboost.XGboost'>, 'PLNLP': <class 'MolRep.Interactions.link_models.PLNLP.PLNLP.PLNLP'>, 'CFLP': <class 'MolRep.Interactions.link_models.CFLP.CFLP.CFLP'>}\n"
     ]
    }
   ],
   "execution_count": 73
  },
  {
   "metadata": {
    "ExecuteTime": {
     "end_time": "2024-05-24T14:44:03.437324Z",
     "start_time": "2024-05-24T14:44:03.423361Z"
    }
   },
   "cell_type": "code",
   "source": [
    "###### graphics go here\n",
    "svg_dir = os.path.join(OUTPUT_DIR, f\"{MODEL}_{DATASET}_explainer\", \"SVG\", f\"{ATTRIBUTION}_{model_configuration['num_epochs']}_epochs\")\n",
    "\n",
    "# model output\n",
    "output_dir = Path(OUTPUT_DIR)\n",
    "MODELPATH = os.path.join(OUTPUT_DIR, f\"{MODEL}_{DATASET}_explainer\", f\"{MODEL}.pt\")\n",
    "os.makedirs(OUTPUT_DIR, exist_ok=True)\n",
    "os.makedirs(svg_dir, exist_ok=True)"
   ],
   "id": "b4e5f3f497340e9",
   "outputs": [],
   "execution_count": 74
  },
  {
   "metadata": {
    "ExecuteTime": {
     "end_time": "2024-05-24T14:44:07.238155Z",
     "start_time": "2024-05-24T14:44:03.552018Z"
    }
   },
   "cell_type": "code",
   "source": [
    "exp_path = os.path.join(output_dir, f'{model_configuration.exp_name}_{dataset_configuration.exp_name}_explainer')\n",
    "\n",
    "dataset = ExplainerDatasetWrapper(dataset_config=dataset_configuration,\n",
    "                                  model_name=model_configuration.exp_name,\n",
    "                                  split_dir=split_dir, features_dir=data_dir)\n"
   ],
   "id": "6f5aafb16b07d4c3",
   "outputs": [],
   "execution_count": 75
  },
  {
   "cell_type": "code",
   "id": "47bb5704c5de9081",
   "metadata": {
    "collapsed": false,
    "jupyter": {
     "outputs_hidden": false
    },
    "ExecuteTime": {
     "end_time": "2024-05-24T14:44:30.742802Z",
     "start_time": "2024-05-24T14:44:07.239154Z"
    }
   },
   "source": [
    "\n",
    "explainer_experiment = ExplainerExperiments(model_configuration, dataset_configuration, exp_path)\n",
    "\n",
    "# validation\n",
    "explainer_experiment.run_valid(dataset, ATTRIBUTION, logger=logger, other={'model_path':MODELPATH})\n",
    "# if not os.path.exists(MODELPATH):\n",
    "#     explainer_experiment.run_valid(dataset, ATTRIBUTION, logger=logger, other={'model_path':MODELPATH})"
   ],
   "outputs": [
    {
     "name": "stdout",
     "output_type": "stream",
     "text": [
      "[TRAIN] Epoch: 1, train loss: 0.659176 train acc: 0.735833\n",
      "[TRAIN] Metric:{'acc': 0.7358333333333333, 'auc': 0.8225941339609483, 'f1': 0.728270186867821, 'precision': 0.7498676081200353, 'recall': 0.7078820196633895}\n",
      "[VALID] Metric:-1\n",
      "[TEST] Metric:None\n",
      "- Elapsed time: 22.6s , Time estimation in a fold: 0.37min\n"
     ]
    },
    {
     "data": {
      "text/plain": [
       "(None, None)"
      ]
     },
     "execution_count": 76,
     "metadata": {},
     "output_type": "execute_result"
    }
   ],
   "execution_count": 76
  },
  {
   "cell_type": "code",
   "id": "f08bde043af69231",
   "metadata": {
    "collapsed": false,
    "jupyter": {
     "outputs_hidden": false
    },
    "ExecuteTime": {
     "end_time": "2024-05-24T14:44:30.758759Z",
     "start_time": "2024-05-24T14:44:30.743799Z"
    }
   },
   "source": [],
   "outputs": [],
   "execution_count": 76
  },
  {
   "cell_type": "code",
   "id": "39cbd135f116d2a8",
   "metadata": {
    "ExecuteTime": {
     "end_time": "2024-05-24T14:45:19.408600Z",
     "start_time": "2024-05-24T14:44:30.760754Z"
    }
   },
   "source": [
    "results, atom_importance, bond_importance = explainer_experiment.molecule_importance(dataset=dataset, attribution=ATTRIBUTION, logger=logger, other={'model_path':MODELPATH}, testing=TESTING)\n",
    "\n",
    "# model + dataset + explainer \\   = is smiles representations of the data? \n",
    "# .\\Outputs\\CMPNN_Liver_explainer\\CMPNN_explained_by_IG_oof.csv"
   ],
   "outputs": [
    {
     "name": "stdout",
     "output_type": "stream",
     "text": [
      "Moving model to cuda\n",
      "(2400, 3)\n",
      "..\\Outputs\\20240524_164403\\CMPNN_Benzene_explainer\\CMPNN_explained_by_IG_oof.csv\n"
     ]
    }
   ],
   "execution_count": 77
  },
  {
   "cell_type": "code",
   "id": "b7f8b2bc5b834b5f",
   "metadata": {
    "collapsed": false,
    "jupyter": {
     "outputs_hidden": false
    },
    "ExecuteTime": {
     "end_time": "2024-05-24T14:47:48.094218Z",
     "start_time": "2024-05-24T14:45:19.409600Z"
    }
   },
   "source": [
    "import pandas as pd\n",
    "\n",
    "# logger.log('Test results: %s' % str(results))\n",
    "\n",
    "# print(attribution_results)\n",
    "\n",
    "if DATASET in ['hERG', 'CYP3A4']:\n",
    "    attribution_results, opt_threshold = explainer_experiment.evaluate_cliffs(dataset, atom_importance, bond_importance)\n",
    "else:\n",
    "    binary = True if ATTRIBUTION == 'MCTS' else False\n",
    "    #TODO not working, because ATTRIBUTIONPATH is not set and attributions are not saved\n",
    "    attribution_results, opt_threshold = explainer_experiment.evaluate_attributions(dataset, atom_importance, bond_importance, binary=binary)\n",
    "\n",
    "#TODO not working\n",
    "# logger.log('attribution_results:' + str(attribution_results))\n",
    "# logger.log('opt_threshold:' + str(opt_threshold))\n",
    "\n",
    "# create visualisations using  the dataset and learned atom and bond importances\n",
    "explainer_experiment.visualization(dataset, atom_importance, bond_importance, svg_dir=svg_dir, testing=TESTING)\n",
    "\n",
    "df = pd.DataFrame(\n",
    "    {'SMILES': dataset.get_smiles_list(), 'Atom_importance': atom_importance, 'Bond_importance':bond_importance}\n",
    ")\n",
    "df.to_csv(os.path.join(svg_dir, \"importances.csv\"), index=False)"
   ],
   "outputs": [],
   "execution_count": 78
  },
  {
   "cell_type": "code",
   "id": "91954a28c3433d59",
   "metadata": {
    "collapsed": false,
    "jupyter": {
     "outputs_hidden": false
    },
    "ExecuteTime": {
     "end_time": "2024-05-24T14:47:48.141121Z",
     "start_time": "2024-05-24T14:47:48.095188Z"
    }
   },
   "source": [
    "data = pd.read_csv(DATAPATH)[['SPLIT', 'label']]\n",
    "\n",
    "import pprint\n",
    "\n",
    "# print(\"Epochs: \", model_configuration['num_epochs'])\n",
    "pp = pprint.PrettyPrinter(indent=1)\n",
    "print(model_configuration['num_epochs'])\n",
    "print(results['acc'])\n",
    "print(results['auc'])\n",
    "print(results['f1'])\n",
    "print(results['precision'])\n",
    "print(results['recall'])\n",
    "print()\n",
    "print(attribution_results['Attribution AUROC'])\n",
    "print(attribution_results['Attribution F1'])\n",
    "print(attribution_results['Attribution ACC'])\n",
    "print(attribution_results['Attribution Precision'])\n",
    "print(attribution_results['Attribution AUROC Mean'])\n",
    "print(attribution_results['Attribution ACC Mean'])"
   ],
   "outputs": [
    {
     "name": "stdout",
     "output_type": "stream",
     "text": [
      "1\n",
      "0.7641666666666667\n",
      "0.8575241391811396\n",
      "0.7787333854573886\n",
      "0.7394209354120267\n",
      "0.8224607762180016\n",
      "\n",
      "0.9471120474969448\n",
      "0.0\n",
      "0.8153212876847543\n",
      "0.0\n",
      "0.8949481484830863\n",
      "0.8046728026701729\n"
     ]
    }
   ],
   "execution_count": 79
  },
  {
   "metadata": {
    "ExecuteTime": {
     "end_time": "2024-05-24T14:47:48.157046Z",
     "start_time": "2024-05-24T14:47:48.142086Z"
    }
   },
   "cell_type": "code",
   "source": [
    "import copy\n",
    "# value of threshold is used in explainerExperiments.py in visualization\n",
    "def split_molecule(mol_idx, threshold=1e-4) :\n",
    "    smile = df.SMILES.iat[mol_idx]\n",
    "    importances = df.Atom_importance.iat[mol_idx]\n",
    "    \n",
    "    # convert importances from a string\n",
    "    # importances = [float(num) for num in importances.strip('[]').split()]\n",
    "    \n",
    "    original_mol = rdkit.Chem.RWMol(rdkit.Chem.MolFromSmiles(smile))\n",
    "     \n",
    "    non_explaining_atom_idx = []\n",
    "    explaining_atom_idx = []\n",
    "    for idx in range(len(original_mol.GetAtoms())):\n",
    "        # same threshold as one used in visualisation\n",
    "        if importances[idx] < threshold:\n",
    "            non_explaining_atom_idx.append(idx)\n",
    "        else:\n",
    "            explaining_atom_idx.append(idx)\n",
    "            \n",
    "    non_explaining_atom_idx.reverse()\n",
    "    explaining_atom_idx.reverse()\n",
    "    \n",
    "    # find (non)explaining bonds where at least one end is a non-explaining atom\n",
    "    non_explaining_bonds = []\n",
    "    explaining_bonds = []\n",
    "    \n",
    "    for bond in original_mol.GetBonds():\n",
    "        i = bond.GetBeginAtomIdx()\n",
    "        j = bond.GetEndAtomIdx()\n",
    "        \n",
    "        # if both end and start in explaining atoms, the edge is explaining \n",
    "        if (i and j) not in non_explaining_atom_idx :\n",
    "            explaining_bonds.append((i, j))\n",
    "            explaining_bonds.append((j, i))\n",
    "        else:\n",
    "            non_explaining_bonds.append((i, j))\n",
    "            non_explaining_bonds.append((j, i))\n",
    "    \n",
    "    # explaining molecule has non-explaining bonds and atoms removed \n",
    "    explaining_mol = copy.deepcopy(original_mol)\n",
    "    for (i, j) in non_explaining_bonds:\n",
    "        explaining_mol.RemoveBond(i, j)\n",
    "    \n",
    "    for idx in non_explaining_atom_idx:\n",
    "        explaining_mol.RemoveAtom(idx)\n",
    "    \n",
    "    explaining_smile = rdkit.Chem.MolToSmiles(explaining_mol)\n",
    "    \n",
    "    # comprehensiveness uses non-explaining atoms and edges\n",
    "    non_explaining_mol = copy.deepcopy(original_mol)\n",
    "    \n",
    "    for (i, j) in explaining_bonds:\n",
    "        non_explaining_mol.RemoveBond(i, j)\n",
    "        \n",
    "    for i in explaining_atom_idx:\n",
    "        non_explaining_mol.RemoveAtom(i)\n",
    "    \n",
    "    non_explaining_smile = rdkit.Chem.MolToSmiles(non_explaining_mol)\n",
    "    \n",
    "    # print(smile)\n",
    "    # print(explaining_smile)\n",
    "    # print(non_explaining_smile)\n",
    "    \n",
    "    ####\n",
    "    # TODO 2. priority separate fragments\n",
    "    # comprehensiveness leads to a degenerate smile when the explanation cuts the molecule in pieces, or when there are multiple substructures explaining\n",
    "    # if (non)explanation is in multiple fragments those could be evaluated separately\n",
    "    # ditto for sufficiency\n",
    "    # D/BFS\n",
    "    return smile, explaining_smile, non_explaining_smile"
   ],
   "id": "da3b8f1ab4ebbc4",
   "outputs": [],
   "execution_count": 80
  },
  {
   "metadata": {
    "ExecuteTime": {
     "end_time": "2024-05-24T15:02:54.532839Z",
     "start_time": "2024-05-24T15:02:54.511895Z"
    }
   },
   "cell_type": "code",
   "source": [
    "import torch\n",
    "from MolRep.Featurization.MPNN_embeddings import MolGraph, BatchMolGraph\n",
    "from rdkit.Chem import MolFromSmiles, rdmolops\n",
    "\n",
    "def tensors_to_device(smile, batch):\n",
    "    device = torch.device('cuda' if torch.cuda.is_available() else 'cpu')\n",
    "    \n",
    "    adj = rdmolops.GetAdjacencyMatrix(MolFromSmiles(smile))\n",
    "    \n",
    "    list = {\n",
    "        'nodes' : batch.f_atoms, \n",
    "        'edges' : batch.f_bonds,\n",
    "        'a2b' : batch.a2b,\n",
    "        'b2a' : batch.b2a,\n",
    "        'adjacency' : torch.FloatTensor(adj) \n",
    "    }\n",
    "    \n",
    "    for i in list:\n",
    "        list[i].to(device)\n",
    "        \n",
    "    return list['nodes'], list['edges'], list['a2b'], list['b2a'], list['adjacency']"
   ],
   "id": "ebf3d2ee8dfcd116",
   "outputs": [],
   "execution_count": 96
  },
  {
   "metadata": {
    "ExecuteTime": {
     "end_time": "2024-05-24T17:18:33.184090Z",
     "start_time": "2024-05-24T17:18:33.080368Z"
    }
   },
   "cell_type": "code",
   "source": [
    "def comp_and_suff(i) :\n",
    "    smile, explaining_smile, non_explaining_smile = split_molecule(i)\n",
    "\n",
    "    model = explainer_experiment.get_model(dataset, other={'model_path':MODELPATH})\n",
    "        \n",
    "    model.eval()\n",
    "    \n",
    "    preds = []\n",
    "    for s in [smile, explaining_smile, non_explaining_smile] :\n",
    "        mol = MolGraph(s) # convert smile to graph\n",
    "        g_input = BatchMolGraph( [mol])\n",
    "        atoms, bonds, a2b, b2a, adjacency = tensors_to_device(s, g_input)\n",
    "        \n",
    "        with torch.no_grad():\n",
    "            # TODO investigate None params\n",
    "            #     Args for mol2graph:\n",
    "            # - mols: A list of SMILES or a list of RDKit molecules.\n",
    "            # - atom_descriptors_batch: A list of 2D numpy array containing additional atom descriptors to featurize the molecule\n",
    "            pred = model([[s], None, None])\n",
    "            \n",
    "        # print('pred for ', s, ': ', pred.item())\n",
    "        preds.append(pred)\n",
    "        \n",
    "    g_pred = preds[0].item()\n",
    "    e_pred = preds[1].item()\n",
    "    n_pred = preds[2].item()\n",
    "    \n",
    "    # f = model prediction\n",
    "    # comp = f(smile) - f(non_explaining_smile)\n",
    "    # suff = f (smile) - f(explaining_smile)\n",
    "    comp = g_pred - n_pred\n",
    "    suff = g_pred - e_pred\n",
    "    return [g_pred, comp, suff]\n",
    "\n",
    "def comp_and_suff_data(df):\n",
    "    c_and_s = []\n",
    "    for i in range(len(df)):\n",
    "        vals = comp_and_suff(i)\n",
    "        print(i, vals)\n",
    "        c_and_s.append(vals)\n",
    "    return c_and_s\n",
    "        \n",
    "g_pred, comp, suff = comp_and_suff(0)\n",
    "print('comp:', comp)\n",
    "print('suff:', suff)\n",
    "\n",
    "c = comp_and_suff_data(df)\n",
    "print(type(c))"
   ],
   "id": "1d4cc16ded7064dd",
   "outputs": [
    {
     "name": "stdout",
     "output_type": "stream",
     "text": [
      "Moving model to cuda\n",
      "comp: 0.09007173776626587\n",
      "suff: -0.008321106433868408\n"
     ]
    }
   ],
   "execution_count": 193
  },
  {
   "metadata": {
    "ExecuteTime": {
     "end_time": "2024-05-24T14:47:48.350537Z",
     "start_time": "2024-05-24T14:47:48.349541Z"
    }
   },
   "cell_type": "code",
   "source": "\n",
   "id": "773ae384dee349e3",
   "outputs": [],
   "execution_count": null
  },
  {
   "metadata": {},
   "cell_type": "code",
   "source": [
    "# from MolRep.Models.metrics import fidelity\n",
    "from MolRep.Explainer.Metrics import attribution_metric\n",
    "\n",
    "\n"
   ],
   "id": "41ebcab894bb33a6",
   "outputs": [],
   "execution_count": null
  }
 ],
 "metadata": {
  "kernelspec": {
   "display_name": "Python 3 (ipykernel)",
   "language": "python",
   "name": "python3"
  },
  "language_info": {
   "codemirror_mode": {
    "name": "ipython",
    "version": 3
   },
   "file_extension": ".py",
   "mimetype": "text/x-python",
   "name": "python",
   "nbconvert_exporter": "python",
   "pygments_lexer": "ipython3",
   "version": "3.9.10"
  }
 },
 "nbformat": 4,
 "nbformat_minor": 5
}
