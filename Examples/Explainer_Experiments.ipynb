{
 "cells": [
  {
   "cell_type": "code",
   "id": "initial_id",
   "metadata": {
    "ExecuteTime": {
     "end_time": "2024-05-15T12:01:47.044572Z",
     "start_time": "2024-05-15T12:01:47.023626Z"
    }
   },
   "source": [
    "# Converted by Tim Stols\n",
    "# python Explainer_Experiments.py --model_name CMPNN \\\n",
    "#                                                        --attribution_name GradInput \\\n",
    "#                                                        --data_path ../MolRep/Datasets/Metabolism/admet2.1_rlm_merge.csv \\\n",
    "#                                                        --dataset_name RLM \\\n",
    "#                                                        --smiles_col COMPOUND_SMILES \\\n",
    "#                                                        --target_col CLF_LABEL \\\n",
    "#                                                        --task_type Multi-Classification \\\n",
    "#                                                        --multiclass_num_classes 3 \\\n",
    "#                                                        --output_dir ../Outputs"
   ],
   "outputs": [],
   "execution_count": 1
  },
  {
   "cell_type": "code",
   "id": "dfacd7f1cf8943f",
   "metadata": {
    "collapsed": false,
    "jupyter": {
     "outputs_hidden": false
    },
    "ExecuteTime": {
     "end_time": "2024-05-15T12:01:47.106445Z",
     "start_time": "2024-05-15T12:01:47.068506Z"
    }
   },
   "source": [
    "OUTPUT_DIR = '../Outputs'\n",
    "DATASET = '3MR'\n",
    "# DATASET = 'Liver'\n",
    "\n",
    "# GNN\n",
    "MODEL = 'CMPNN' # Options:  ['MPNN', 'DMPNN', 'CMPNN', 'GIN', 'ECC', 'GAT', 'DGCNN', 'DiffPool', 'GraphSAGE', 'GraphNet']\n",
    "\n",
    "# explainer\n",
    "ATTRIBUTION = 'IG' # Options: IG CAM MCTS GradInput GradCAM RandomBaseline\n",
    "\n",
    "DATAPATH = '../DataSets/3MR/toy_label_mw350.csv'\n",
    "# DATAPATH = '../Datasets/XAI/Liver/liver.csv'\n",
    "SMILESCOL = 'SMILES'\n",
    "# TARGETCOL = 'label'\n",
    "TARGETCOL = 'label_full' # for 3MR\n",
    "\n",
    "ATTRIBUTIONPATH = '../DataSets/3MR/attributions.npz'\n",
    "# ATTRIBUTIONPATH = '../Datasets/XAI/Liver/attributions.npz'\n",
    "\n",
    "# regression for ESOL\n",
    "# classification for the rest in Quant eval \n",
    "\n",
    "# 3MR can do regression or classification\n",
    "\n",
    "TASKTYPE = 'Regression' # Can be 'Multi-Classification', 'Classification', 'Regression'\n",
    "MULTICLASS_NUM_CLASSES = 3 # Can be 3\n",
    "TESTING = True\n",
    "SPLITTYPE = 'defined' # Can be 'random', 'scaffold', or other defined for dataset"
   ],
   "outputs": [],
   "execution_count": 2
  },
  {
   "cell_type": "code",
   "id": "1f282f66cda2d6b1",
   "metadata": {
    "collapsed": false,
    "jupyter": {
     "outputs_hidden": false
    },
    "ExecuteTime": {
     "end_time": "2024-05-15T12:02:13.820008Z",
     "start_time": "2024-05-15T12:01:47.124356Z"
    }
   },
   "source": [
    "from MolRep.Utils.logger import Logger\n",
    "from MolRep.Explainer.explainerExperiments import ExplainerExperiments\n",
    "from MolRep.Explainer.explainerDataWrapper import ExplainerDatasetWrapper\n",
    "from MolRep.Utils.config_from_dict import Grid, Config, DatasetConfig\n",
    "import torch\n",
    "from pathlib import Path\n",
    "import MolRep\n",
    "import os\n",
    "from numba.cuda import args\n",
    "\n",
    "LOGGER_BASE = os.path.join(OUTPUT_DIR, \"Logger\", f\"{DATASET}_explainer\")\n",
    "logger = Logger(str(os.path.join(LOGGER_BASE, f\"{MODEL}_{DATASET}_explainer_by_{ATTRIBUTION}.log\")), mode='a')\n",
    "\n",
    "# output for vector groups\n",
    "data_dir = Path('../MolRep/Data')\n",
    "split_dir = Path('../MolRep/Splits')\n",
    "os.makedirs(data_dir, exist_ok=True)\n",
    "os.makedirs(split_dir, exist_ok=True)\n",
    "svg_dir = os.path.join(OUTPUT_DIR, f\"{MODEL}_{DATASET}_explainer\", \"SVG\", f\"{ATTRIBUTION}\")\n",
    "\n",
    "# model output\n",
    "output_dir = Path(OUTPUT_DIR)\n",
    "MODELPATH = os.path.join(OUTPUT_DIR, f\"{MODEL}_{DATASET}_explainer\", f\"{MODEL}.pt\")\n",
    "os.makedirs(OUTPUT_DIR, exist_ok=True)\n",
    "os.makedirs(svg_dir, exist_ok=True)\n",
    "\n",
    "# torch.set_num_threads(1)"
   ],
   "outputs": [],
   "execution_count": 3
  },
  {
   "cell_type": "code",
   "id": "f6d854b9b86438f9",
   "metadata": {
    "collapsed": false,
    "jupyter": {
     "outputs_hidden": false
    },
    "ExecuteTime": {
     "end_time": "2024-05-15T12:02:13.850894Z",
     "start_time": "2024-05-15T12:02:13.828954Z"
    }
   },
   "source": [
    "data_stats = {\n",
    "            'name': DATASET,\n",
    "            'path': DATAPATH,\n",
    "            'smiles_column': SMILESCOL,\n",
    "            'target_columns': [TARGETCOL],\n",
    "            'attribution_path': ATTRIBUTIONPATH,\n",
    "            'task_type': TASKTYPE,\n",
    "            'multiclass_num_classes': MULTICLASS_NUM_CLASSES,\n",
    "            # precision ill-defined if labels in test set aren't predicted in training set\n",
    "            'metric_type': 'rmse' if TASKTYPE == 'Regression' else ['acc', 'auc', 'f1', 'precision', 'recall'],\n",
    "            'split_type': SPLITTYPE\n",
    "}\n",
    "\n",
    "if TESTING:\n",
    "    data_stats['additional_info'] = {\"splits\":'SPLIT'}"
   ],
   "outputs": [],
   "execution_count": 4
  },
  {
   "cell_type": "code",
   "id": "6f5aafb16b07d4c3",
   "metadata": {
    "collapsed": false,
    "jupyter": {
     "outputs_hidden": false
    },
    "ExecuteTime": {
     "end_time": "2024-05-15T12:02:15.190685Z",
     "start_time": "2024-05-15T12:02:13.855050Z"
    }
   },
   "source": [
    "config_file = '../MolRep/Configs/config_{}.yml'.format(MODEL)\n",
    "model_configurations = Grid(config_file)\n",
    "model_configuration = Config(**model_configurations[0])\n",
    "dataset_configuration = DatasetConfig(DATASET, data_dict=data_stats)\n",
    "\n",
    "exp_path = os.path.join(output_dir, f'{model_configuration.exp_name}_{dataset_configuration.exp_name}_explainer')\n",
    "\n",
    "dataset = ExplainerDatasetWrapper(dataset_config=dataset_configuration,\n",
    "                                  model_name=model_configuration.exp_name,\n",
    "                                  split_dir=split_dir, features_dir=data_dir)\n"
   ],
   "outputs": [
    {
     "name": "stdout",
     "output_type": "stream",
     "text": [
      "CMPNN\n",
      "{'GIN': <class 'MolRep.Models.graph_based.GIN.GIN'>, 'ECC': <class 'MolRep.Models.graph_based.ECC.ECC'>, 'DGCNN': <class 'MolRep.Models.graph_based.DGCNN.DGCNN'>, 'DiffPool': <class 'MolRep.Models.graph_based.DiffPool.DiffPool'>, 'GraphSAGE': <class 'MolRep.Models.graph_based.GraphSAGE.GraphSAGE'>, 'GAT': <class 'MolRep.Models.graph_based.GAT.GAT'>, 'GraphNet': <class 'MolRep.Models.graph_based.GraphNet.GraphNet'>, 'MPNN': <class 'MolRep.Models.graph_based.MPNN.MPNN'>, 'CMPNN': <class 'MolRep.Models.graph_based.CMPNN.CMPNN'>, 'DMPNN': <class 'MolRep.Models.graph_based.DMPNN.DMPNN'>, 'MAT': <class 'MolRep.Models.sequence_based.MAT.MAT'>, 'CoMPT': <class 'MolRep.Models.sequence_based.CoMPT.CoMPT'>, 'BiLSTM': <class 'MolRep.Models.sequence_based.BiLSTM.BiLSTM'>, 'SALSTM': <class 'MolRep.Models.sequence_based.SALSTM.SALSTM'>, 'Transformer': <class 'MolRep.Models.sequence_based.Transformer.Transformer'>, 'VAE': <class 'MolRep.Models.unsupervised_based.VAE.VAE'>, 'RandomForest': <class 'MolRep.Models.unsupervised_based.RandomForest.RandomForest'>, 'XGboost': <class 'MolRep.Models.unsupervised_based.XGboost.XGboost'>, 'PLNLP': <class 'MolRep.Interactions.link_models.PLNLP.PLNLP.PLNLP'>, 'CFLP': <class 'MolRep.Interactions.link_models.CFLP.CFLP.CFLP'>}\n"
     ]
    }
   ],
   "execution_count": 5
  },
  {
   "cell_type": "code",
   "id": "47bb5704c5de9081",
   "metadata": {
    "collapsed": false,
    "jupyter": {
     "outputs_hidden": false
    },
    "ExecuteTime": {
     "end_time": "2024-05-15T12:02:16.750278Z",
     "start_time": "2024-05-15T12:02:15.198427Z"
    }
   },
   "source": [
    "explainer_experiment = ExplainerExperiments(model_configuration, dataset_configuration, exp_path)\n",
    "\n",
    "explainer_experiment.run_valid(dataset, ATTRIBUTION, logger=logger, other={'model_path':MODELPATH})\n",
    "# if not os.path.exists(MODELPATH):\n",
    "#     explainer_experiment.run_valid(dataset, ATTRIBUTION, logger=logger, other={'model_path':MODELPATH})"
   ],
   "outputs": [
    {
     "ename": "ValueError",
     "evalue": "could not convert string to float: '[1, 0, 0, 0, 0, 0]'",
     "output_type": "error",
     "traceback": [
      "\u001B[1;31m---------------------------------------------------------------------------\u001B[0m",
      "\u001B[1;31mValueError\u001B[0m                                Traceback (most recent call last)",
      "Cell \u001B[1;32mIn[6], line 3\u001B[0m\n\u001B[0;32m      1\u001B[0m explainer_experiment \u001B[38;5;241m=\u001B[39m ExplainerExperiments(model_configuration, dataset_configuration, exp_path)\n\u001B[1;32m----> 3\u001B[0m \u001B[43mexplainer_experiment\u001B[49m\u001B[38;5;241;43m.\u001B[39;49m\u001B[43mrun_valid\u001B[49m\u001B[43m(\u001B[49m\u001B[43mdataset\u001B[49m\u001B[43m,\u001B[49m\u001B[43m \u001B[49m\u001B[43mATTRIBUTION\u001B[49m\u001B[43m,\u001B[49m\u001B[43m \u001B[49m\u001B[43mlogger\u001B[49m\u001B[38;5;241;43m=\u001B[39;49m\u001B[43mlogger\u001B[49m\u001B[43m,\u001B[49m\u001B[43m \u001B[49m\u001B[43mother\u001B[49m\u001B[38;5;241;43m=\u001B[39;49m\u001B[43m{\u001B[49m\u001B[38;5;124;43m'\u001B[39;49m\u001B[38;5;124;43mmodel_path\u001B[39;49m\u001B[38;5;124;43m'\u001B[39;49m\u001B[43m:\u001B[49m\u001B[43mMODELPATH\u001B[49m\u001B[43m}\u001B[49m\u001B[43m)\u001B[49m\n\u001B[0;32m      4\u001B[0m \u001B[38;5;66;03m# if not os.path.exists(MODELPATH):\u001B[39;00m\n\u001B[0;32m      5\u001B[0m \u001B[38;5;66;03m#     explainer_experiment.run_valid(dataset, ATTRIBUTION, logger=logger, other={'model_path':MODELPATH})\u001B[39;00m\n",
      "File \u001B[1;32mC:\\git\\RP\\Explainable-graph-models-for-biological-and-chemi-main\\MolRep\\Explainer\\explainerExperiments.py:106\u001B[0m, in \u001B[0;36mExplainerExperiments.run_valid\u001B[1;34m(self, dataset, attribution, logger, other)\u001B[0m\n\u001B[0;32m    103\u001B[0m loss_fn \u001B[38;5;241m=\u001B[39m get_loss_func(\u001B[38;5;28mself\u001B[39m\u001B[38;5;241m.\u001B[39mdataset_config[\u001B[38;5;124m'\u001B[39m\u001B[38;5;124mtask_type\u001B[39m\u001B[38;5;124m'\u001B[39m], \u001B[38;5;28mself\u001B[39m\u001B[38;5;241m.\u001B[39mmodel_config\u001B[38;5;241m.\u001B[39mexp_name)\n\u001B[0;32m    104\u001B[0m shuffle \u001B[38;5;241m=\u001B[39m \u001B[38;5;28mself\u001B[39m\u001B[38;5;241m.\u001B[39mmodel_config[\u001B[38;5;124m'\u001B[39m\u001B[38;5;124mshuffle\u001B[39m\u001B[38;5;124m'\u001B[39m] \u001B[38;5;28;01mif\u001B[39;00m \u001B[38;5;124m'\u001B[39m\u001B[38;5;124mshuffle\u001B[39m\u001B[38;5;124m'\u001B[39m \u001B[38;5;129;01min\u001B[39;00m \u001B[38;5;28mself\u001B[39m\u001B[38;5;241m.\u001B[39mmodel_config \u001B[38;5;28;01melse\u001B[39;00m \u001B[38;5;28;01mTrue\u001B[39;00m\n\u001B[1;32m--> 106\u001B[0m train_loader, valid_loader, features_scaler, scaler \u001B[38;5;241m=\u001B[39m \u001B[43mdataset\u001B[49m\u001B[38;5;241;43m.\u001B[39;49m\u001B[43mget_train_loader\u001B[49m\u001B[43m(\u001B[49m\u001B[38;5;28;43mself\u001B[39;49m\u001B[38;5;241;43m.\u001B[39;49m\u001B[43mmodel_config\u001B[49m\u001B[43m[\u001B[49m\u001B[38;5;124;43m'\u001B[39;49m\u001B[38;5;124;43mbatch_size\u001B[39;49m\u001B[38;5;124;43m'\u001B[39;49m\u001B[43m]\u001B[49m\u001B[43m,\u001B[49m\n\u001B[0;32m    107\u001B[0m \u001B[43m                                                \u001B[49m\u001B[43mshuffle\u001B[49m\u001B[38;5;241;43m=\u001B[39;49m\u001B[43mshuffle\u001B[49m\u001B[43m)\u001B[49m\n\u001B[0;32m    109\u001B[0m model \u001B[38;5;241m=\u001B[39m model_class(dim_features\u001B[38;5;241m=\u001B[39mdataset\u001B[38;5;241m.\u001B[39mdim_features, dim_target\u001B[38;5;241m=\u001B[39mdataset\u001B[38;5;241m.\u001B[39mdim_target, model_configs\u001B[38;5;241m=\u001B[39m\u001B[38;5;28mself\u001B[39m\u001B[38;5;241m.\u001B[39mmodel_config, dataset_configs\u001B[38;5;241m=\u001B[39m\u001B[38;5;28mself\u001B[39m\u001B[38;5;241m.\u001B[39mdataset_config)\n\u001B[0;32m    110\u001B[0m net \u001B[38;5;241m=\u001B[39m ExplainerNetWrapper(model, attribution, dataset_configs\u001B[38;5;241m=\u001B[39m\u001B[38;5;28mself\u001B[39m\u001B[38;5;241m.\u001B[39mdataset_config, model_config\u001B[38;5;241m=\u001B[39m\u001B[38;5;28mself\u001B[39m\u001B[38;5;241m.\u001B[39mmodel_config,\n\u001B[0;32m    111\u001B[0m                           loss_function\u001B[38;5;241m=\u001B[39mloss_fn)\n",
      "File \u001B[1;32mC:\\git\\RP\\Explainable-graph-models-for-biological-and-chemi-main\\MolRep\\Explainer\\explainerDataWrapper.py:250\u001B[0m, in \u001B[0;36mExplainerDatasetWrapper.get_train_loader\u001B[1;34m(self, batch_size, shuffle, features_scaling)\u001B[0m\n\u001B[0;32m    246\u001B[0m \u001B[38;5;28;01melif\u001B[39;00m \u001B[38;5;28mself\u001B[39m\u001B[38;5;241m.\u001B[39mmodel_name \u001B[38;5;129;01min\u001B[39;00m [\u001B[38;5;124m'\u001B[39m\u001B[38;5;124mMPNN\u001B[39m\u001B[38;5;124m'\u001B[39m, \u001B[38;5;124m'\u001B[39m\u001B[38;5;124mDMPNN\u001B[39m\u001B[38;5;124m'\u001B[39m, \u001B[38;5;124m'\u001B[39m\u001B[38;5;124mCMPNN\u001B[39m\u001B[38;5;124m'\u001B[39m]:\n\u001B[0;32m    247\u001B[0m     train_dataset, valid_dataset, _ \u001B[38;5;241m=\u001B[39m MPNN_data\u001B[38;5;241m.\u001B[39mMPNN_construct_dataset(\n\u001B[0;32m    248\u001B[0m         \u001B[38;5;28mself\u001B[39m\u001B[38;5;241m.\u001B[39mfeatures_path, train_idxs\u001B[38;5;241m=\u001B[39mtrainset_indices, valid_idxs\u001B[38;5;241m=\u001B[39mvalidset_indices)\n\u001B[1;32m--> 250\u001B[0m     train_loader, valid_loader, _, features_scaler, scaler \u001B[38;5;241m=\u001B[39m \u001B[43mMPNN_data\u001B[49m\u001B[38;5;241;43m.\u001B[39;49m\u001B[43mMPNN_construct_dataloader\u001B[49m\u001B[43m(\u001B[49m\n\u001B[0;32m    251\u001B[0m \u001B[43m        \u001B[49m\u001B[43mtrainset\u001B[49m\u001B[38;5;241;43m=\u001B[39;49m\u001B[43mtrain_dataset\u001B[49m\u001B[43m,\u001B[49m\u001B[43m \u001B[49m\u001B[43mvalidset\u001B[49m\u001B[38;5;241;43m=\u001B[39;49m\u001B[43mvalid_dataset\u001B[49m\u001B[43m,\u001B[49m\u001B[43m \u001B[49m\u001B[43mbatch_size\u001B[49m\u001B[38;5;241;43m=\u001B[39;49m\u001B[43mbatch_size\u001B[49m\u001B[43m,\u001B[49m\u001B[43m \u001B[49m\u001B[43mshuffle\u001B[49m\u001B[38;5;241;43m=\u001B[39;49m\u001B[43mshuffle\u001B[49m\u001B[43m,\u001B[49m\u001B[43m \u001B[49m\u001B[43mtask_type\u001B[49m\u001B[38;5;241;43m=\u001B[39;49m\u001B[38;5;28;43mself\u001B[39;49m\u001B[38;5;241;43m.\u001B[39;49m\u001B[43m_task_type\u001B[49m\u001B[43m,\u001B[49m\u001B[43m \u001B[49m\u001B[43mfeatures_scaling\u001B[49m\u001B[38;5;241;43m=\u001B[39;49m\u001B[43mfeatures_scaling\u001B[49m\u001B[43m)\u001B[49m\n\u001B[0;32m    253\u001B[0m \u001B[38;5;28;01melse\u001B[39;00m: \n\u001B[0;32m    254\u001B[0m     \u001B[38;5;28;01mraise\u001B[39;00m \u001B[38;5;28mprint\u001B[39m(\u001B[38;5;28mself\u001B[39m\u001B[38;5;241m.\u001B[39mmodel_name, \u001B[38;5;124m\"\u001B[39m\u001B[38;5;124m Explainer Model Must be in [\u001B[39m\u001B[38;5;124m'\u001B[39m\u001B[38;5;124mDGCNN\u001B[39m\u001B[38;5;124m'\u001B[39m\u001B[38;5;124m, \u001B[39m\u001B[38;5;124m'\u001B[39m\u001B[38;5;124mGIN\u001B[39m\u001B[38;5;124m'\u001B[39m\u001B[38;5;124m, \u001B[39m\u001B[38;5;124m'\u001B[39m\u001B[38;5;124mECC\u001B[39m\u001B[38;5;124m'\u001B[39m\u001B[38;5;124m, \u001B[39m\u001B[38;5;124m'\u001B[39m\u001B[38;5;124mGraphSAGE\u001B[39m\u001B[38;5;124m'\u001B[39m\u001B[38;5;124m, \u001B[39m\u001B[38;5;124m'\u001B[39m\u001B[38;5;124mDiffPool\u001B[39m\u001B[38;5;124m'\u001B[39m\u001B[38;5;124m, \u001B[39m\u001B[38;5;124m'\u001B[39m\u001B[38;5;124mPyGCMPNN\u001B[39m\u001B[38;5;124m'\u001B[39m\u001B[38;5;124m, \u001B[39m\u001B[38;5;124m'\u001B[39m\u001B[38;5;124mMPNN\u001B[39m\u001B[38;5;124m'\u001B[39m\u001B[38;5;124m, \u001B[39m\u001B[38;5;124m'\u001B[39m\u001B[38;5;124mDMPNN\u001B[39m\u001B[38;5;124m'\u001B[39m\u001B[38;5;124m, \u001B[39m\u001B[38;5;124m'\u001B[39m\u001B[38;5;124mCMPNN\u001B[39m\u001B[38;5;124m'\u001B[39m\u001B[38;5;124m]\u001B[39m\u001B[38;5;124m\"\u001B[39m)\n",
      "File \u001B[1;32mC:\\git\\RP\\Explainable-graph-models-for-biological-and-chemi-main\\MolRep\\Experiments\\Graph_Data\\MPNN_data.py:550\u001B[0m, in \u001B[0;36mMPNN_construct_dataloader\u001B[1;34m(trainset, validset, testset, batch_size, shuffle, task_type, seed, features_scaling)\u001B[0m\n\u001B[0;32m    548\u001B[0m \u001B[38;5;28;01mif\u001B[39;00m task_type \u001B[38;5;241m==\u001B[39m \u001B[38;5;124m'\u001B[39m\u001B[38;5;124mRegression\u001B[39m\u001B[38;5;124m'\u001B[39m \u001B[38;5;129;01mand\u001B[39;00m trainset \u001B[38;5;129;01mis\u001B[39;00m \u001B[38;5;129;01mnot\u001B[39;00m \u001B[38;5;28;01mNone\u001B[39;00m:\n\u001B[0;32m    549\u001B[0m     train_targets \u001B[38;5;241m=\u001B[39m trainset\u001B[38;5;241m.\u001B[39mtargets()\n\u001B[1;32m--> 550\u001B[0m     scaler \u001B[38;5;241m=\u001B[39m \u001B[43mStandardScaler\u001B[49m\u001B[43m(\u001B[49m\u001B[43m)\u001B[49m\u001B[38;5;241;43m.\u001B[39;49m\u001B[43mfit\u001B[49m\u001B[43m(\u001B[49m\u001B[43mtrain_targets\u001B[49m\u001B[43m)\u001B[49m\n\u001B[0;32m    551\u001B[0m     scaled_targets \u001B[38;5;241m=\u001B[39m scaler\u001B[38;5;241m.\u001B[39mtransform(train_targets)\u001B[38;5;241m.\u001B[39mtolist()\n\u001B[0;32m    552\u001B[0m     trainset\u001B[38;5;241m.\u001B[39mset_targets(scaled_targets)\n",
      "File \u001B[1;32mC:\\git\\RP\\Explainable-graph-models-for-biological-and-chemi-main\\MolRep\\Models\\scalers.py:34\u001B[0m, in \u001B[0;36mStandardScaler.fit\u001B[1;34m(self, X)\u001B[0m\n\u001B[0;32m     28\u001B[0m \u001B[38;5;28;01mdef\u001B[39;00m \u001B[38;5;21mfit\u001B[39m(\u001B[38;5;28mself\u001B[39m, X: List[List[\u001B[38;5;28mfloat\u001B[39m]]) \u001B[38;5;241m-\u001B[39m\u001B[38;5;241m>\u001B[39m \u001B[38;5;124m'\u001B[39m\u001B[38;5;124mStandardScaler\u001B[39m\u001B[38;5;124m'\u001B[39m:\n\u001B[0;32m     29\u001B[0m \u001B[38;5;250m    \u001B[39m\u001B[38;5;124;03m\"\"\"\u001B[39;00m\n\u001B[0;32m     30\u001B[0m \u001B[38;5;124;03m    Learns means and standard deviations across the 0th axis.\u001B[39;00m\n\u001B[0;32m     31\u001B[0m \u001B[38;5;124;03m    :param X: A list of lists of floats.\u001B[39;00m\n\u001B[0;32m     32\u001B[0m \u001B[38;5;124;03m    :return: The fitted StandardScaler.\u001B[39;00m\n\u001B[0;32m     33\u001B[0m \u001B[38;5;124;03m    \"\"\"\u001B[39;00m\n\u001B[1;32m---> 34\u001B[0m     X \u001B[38;5;241m=\u001B[39m \u001B[43mnp\u001B[49m\u001B[38;5;241;43m.\u001B[39;49m\u001B[43marray\u001B[49m\u001B[43m(\u001B[49m\u001B[43mX\u001B[49m\u001B[43m)\u001B[49m\u001B[38;5;241;43m.\u001B[39;49m\u001B[43mastype\u001B[49m\u001B[43m(\u001B[49m\u001B[38;5;28;43mfloat\u001B[39;49m\u001B[43m)\u001B[49m\n\u001B[0;32m     35\u001B[0m     \u001B[38;5;28mself\u001B[39m\u001B[38;5;241m.\u001B[39mmeans \u001B[38;5;241m=\u001B[39m np\u001B[38;5;241m.\u001B[39mnanmean(X, axis\u001B[38;5;241m=\u001B[39m\u001B[38;5;241m0\u001B[39m)\n\u001B[0;32m     36\u001B[0m     \u001B[38;5;28mself\u001B[39m\u001B[38;5;241m.\u001B[39mstds \u001B[38;5;241m=\u001B[39m np\u001B[38;5;241m.\u001B[39mnanstd(X, axis\u001B[38;5;241m=\u001B[39m\u001B[38;5;241m0\u001B[39m)\n",
      "\u001B[1;31mValueError\u001B[0m: could not convert string to float: '[1, 0, 0, 0, 0, 0]'"
     ]
    }
   ],
   "execution_count": 6
  },
  {
   "cell_type": "code",
   "id": "f08bde043af69231",
   "metadata": {
    "collapsed": false,
    "jupyter": {
     "outputs_hidden": false
    },
    "ExecuteTime": {
     "end_time": "2024-05-15T11:58:15.887078Z",
     "start_time": "2024-05-15T11:58:15.886079Z"
    }
   },
   "source": "",
   "outputs": [],
   "execution_count": null
  },
  {
   "metadata": {},
   "cell_type": "code",
   "source": [
    "results, atom_importance, bond_importance = explainer_experiment.molecule_importance(dataset=dataset, attribution=ATTRIBUTION, logger=logger, other={'model_path':MODELPATH}, testing=TESTING)\n",
    "\n",
    "# model + dataset + explainer \\ oof = is smiles representations of the data? \n",
    "# .\\Outputs\\CMPNN_Liver_explainer\\CMPNN_explained_by_IG_oof.csv"
   ],
   "id": "39cbd135f116d2a8",
   "outputs": [],
   "execution_count": null
  },
  {
   "cell_type": "code",
   "id": "b7f8b2bc5b834b5f",
   "metadata": {
    "collapsed": false,
    "jupyter": {
     "outputs_hidden": false
    }
   },
   "source": [
    "import pandas as pd\n",
    "\n",
    "logger.log('Test results: %s' % str(results))\n",
    "\n",
    "# print(attribution_results)\n",
    "\n",
    "if DATASET in ['hERG', 'CYP3A4']:\n",
    "    attribution_results, opt_threshold = explainer_experiment.evaluate_cliffs(dataset, atom_importance, bond_importance)\n",
    "else:\n",
    "    binary = True if ATTRIBUTION == 'MCTS' else False\n",
    "    #TODO not working, because ATTRIBUTIONPATH is not set and attributions are not saved\n",
    "    attribution_results, opt_threshold = explainer_experiment.evaluate_attributions(dataset, atom_importance, bond_importance, binary=binary)\n",
    "\n",
    "#TODO not working\n",
    "logger.log('attribution_results:' + str(attribution_results))\n",
    "logger.log('opt_threshold:' + str(opt_threshold))\n",
    "\n",
    "# create visualisations using the dataset and learned atom and bond importances \n",
    "explainer_experiment.visualization(dataset, atom_importance, bond_importance, svg_dir=svg_dir, testing=TESTING)\n",
    "\n",
    "df = pd.DataFrame(\n",
    "    {'SMILES': dataset.get_smiles_list(), 'Atom_importance': atom_importance, 'Bond_importance':bond_importance}\n",
    ")\n",
    "df.to_csv(os.path.join(svg_dir, \"importances.csv\"), index=False)"
   ],
   "outputs": [],
   "execution_count": null
  },
  {
   "cell_type": "code",
   "id": "a2a2374b4d1e49db",
   "metadata": {
    "collapsed": false,
    "jupyter": {
     "outputs_hidden": false
    }
   },
   "source": [
    "data = pd.read_csv(DATAPATH)[['SPLIT', 'label']]\n",
    "print(data.drop_duplicates())"
   ],
   "outputs": [],
   "execution_count": null
  }
 ],
 "metadata": {
  "kernelspec": {
   "display_name": "Python 3 (ipykernel)",
   "language": "python",
   "name": "python3"
  },
  "language_info": {
   "codemirror_mode": {
    "name": "ipython",
    "version": 3
   },
   "file_extension": ".py",
   "mimetype": "text/x-python",
   "name": "python",
   "nbconvert_exporter": "python",
   "pygments_lexer": "ipython3",
   "version": "3.9.10"
  }
 },
 "nbformat": 4,
 "nbformat_minor": 5
}
