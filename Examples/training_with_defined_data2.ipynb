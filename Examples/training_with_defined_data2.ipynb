{
 "cells": [
  {
   "cell_type": "code",
   "execution_count": 1,
   "metadata": {
    "colab": {
     "base_uri": "https://localhost:8080/"
    },
    "id": "P7HSau_QbSw6",
    "outputId": "9eb17671-c400-4f56-a95a-c974d07abb0c",
    "ExecuteTime": {
     "end_time": "2024-05-12T11:51:06.268566700Z",
     "start_time": "2024-05-12T11:51:06.226539200Z"
    }
   },
   "outputs": [],
   "source": [
    "# THIS IS THE SETUP CODE FOR THE VIRTUALENV INSIDE OF THE DRIVE\n",
    "# You only need to run this cell once, as it sets up your google drive mount\n",
    "# Once that is done you can comment it out\n",
    "\n",
    "# This code will create a venv and clone the repo into your github\n",
    "# This allows for persistence of your jupyter notebook\n"
   ]
  },
  {
   "cell_type": "code",
   "outputs": [],
   "source": [
    "import sys"
   ],
   "metadata": {
    "collapsed": false,
    "ExecuteTime": {
     "end_time": "2024-05-12T11:51:06.315506300Z",
     "start_time": "2024-05-12T11:51:06.276149700Z"
    }
   },
   "execution_count": 2
  },
  {
   "cell_type": "code",
   "outputs": [],
   "source": [
    "# Install pytorch\n",
    "# Determine CUDA version (can be done with !nvcc --version)\n",
    "# Find relevant command if another CUDA version is used: https://pytorch.org/get-started/locally/\n",
    "# For CUDA 12.1\n",
    "\n",
    "#!{sys.executable} -m pip3 install torch torchvision torchaudio --index-url https://download.pytorch.org/whl/cu121\n",
    "\n",
    "# Add here for other CUDA version\n",
    "\n",
    "# For CPU-only:\n",
    "#!{sys.executable} -m pip3 install torch torchvision torchaudio"
   ],
   "metadata": {
    "collapsed": false,
    "ExecuteTime": {
     "end_time": "2024-05-12T11:51:06.333052Z",
     "start_time": "2024-05-12T11:51:06.284622600Z"
    }
   },
   "execution_count": 3
  },
  {
   "cell_type": "code",
   "execution_count": 4,
   "metadata": {
    "colab": {
     "base_uri": "https://localhost:8080/"
    },
    "id": "Ui7DWotp-wsQ",
    "outputId": "98d4738e-6d4d-41b6-beda-d7d6b055e547",
    "scrolled": true,
    "ExecuteTime": {
     "end_time": "2024-05-12T11:51:09.258259Z",
     "start_time": "2024-05-12T11:51:06.302199100Z"
    }
   },
   "outputs": [
    {
     "name": "stderr",
     "output_type": "stream",
     "text": [
      "C:\\Users\\Tim\\PycharmProjects\\MolRep\\.venv\\Scripts\\python.exe: No module named pip3\n",
      "C:\\Users\\Tim\\PycharmProjects\\MolRep\\.venv\\Scripts\\python.exe: No module named pip3\n"
     ]
    }
   ],
   "source": [
    "# Installing pyg packages\n",
    "import torch\n",
    "# Using the pyg.org is necessary as it makes it way faster than regular pip install\n",
    "!{sys.executable} -m pip install pyg_lib torch_scatter torch_sparse torch_cluster torch_spline_conv -f https://data.pyg.org/whl/torch-{torch.__version__}.html\n",
    "\n",
    "# Install torch_geometric\n",
    "!{sys.executable} -m pip install torch_geometric"
   ]
  },
  {
   "cell_type": "markdown",
   "metadata": {
    "id": "DUFWOIJEROe1"
   },
   "source": []
  },
  {
   "cell_type": "code",
   "execution_count": 5,
   "metadata": {
    "colab": {
     "base_uri": "https://localhost:8080/"
    },
    "id": "D5t7c7IpAsKe",
    "outputId": "12a8efe8-8d7a-4b95-e89a-8a31d364e620",
    "ExecuteTime": {
     "end_time": "2024-05-12T11:51:09.385894Z",
     "start_time": "2024-05-12T11:51:09.260348Z"
    }
   },
   "outputs": [
    {
     "name": "stderr",
     "output_type": "stream",
     "text": [
      "C:\\Users\\Tim\\PycharmProjects\\MolRep\\.venv\\Scripts\\python.exe: No module named pip3\n"
     ]
    }
   ],
   "source": [
    "# Install other requirements\n",
    "!{sys.executable} -m pip install -r requirements.txt\n"
   ]
  },
  {
   "cell_type": "code",
   "execution_count": 6,
   "metadata": {
    "colab": {
     "base_uri": "https://localhost:8080/"
    },
    "id": "iZVFNzG7DCX8",
    "outputId": "c079525b-d476-4608-b59f-80565fc07fa5",
    "ExecuteTime": {
     "end_time": "2024-05-12T11:51:09.421015100Z",
     "start_time": "2024-05-12T11:51:09.388236400Z"
    }
   },
   "outputs": [],
   "source": [
    "#TODO test whether this is needed; these packages were added to requirements.txt\n",
    "#!pip install rdkit scikit-network geomloss ogb scikit-optimize"
   ]
  },
  {
   "cell_type": "code",
   "outputs": [],
   "source": [
    "import sys\n",
    "import os\n",
    "sys.path.append('../')\n",
    "import numpy as np\n",
    "\n",
    "\n",
    "from MolRep import MolRep\n",
    "from MolRep.Utils.logger import Logger\n",
    "from MolRep.Utils.config_from_dict import Config\n",
    "from MolRep.Experiments.experiments import EndToEndExperiment"
   ],
   "metadata": {
    "collapsed": false,
    "ExecuteTime": {
     "end_time": "2024-05-12T11:57:24.350513200Z",
     "start_time": "2024-05-12T11:57:16.229723600Z"
    }
   },
   "execution_count": 1
  },
  {
   "cell_type": "code",
   "execution_count": 2,
   "metadata": {
    "id": "kH5_8WZ9bMS8",
    "ExecuteTime": {
     "end_time": "2024-05-12T11:57:24.377687700Z",
     "start_time": "2024-05-12T11:57:24.355818400Z"
    }
   },
   "outputs": [],
   "source": [
    "MODEL_CONFIG_DIR = '../MolRep/Configs' # Need to set! The directory of Model Configurations files, such as config_CMPNN.yml.\n",
    "DATASET_DIR = '../DataSets'     # Need to set! The directory of Datasets downloaded from Google Drive.\n",
    "OUTPUT_DIR = '../Outputs'\n",
    "\n",
    "# Output file name\n",
    "_CONFIG_BASE = 'config_'\n",
    "_CONFIG_FILENAME = 'config_results.json'\n",
    "\n",
    "# Args\n",
    "_FOLDS = 5\n",
    "MODEL_NAME = 'CMPNN'#'MorganFP'#'MolecularFingerprint' #'CMPNN'\n",
    "DATASET_NAME = 'BBBP'"
   ]
  },
  {
   "cell_type": "code",
   "execution_count": 3,
   "metadata": {
    "colab": {
     "base_uri": "https://localhost:8080/"
    },
    "id": "pSFWL-bfbMS8",
    "outputId": "5a2d3f75-2132-42ba-b54d-9d52871002f7",
    "ExecuteTime": {
     "end_time": "2024-05-12T11:57:25.198302700Z",
     "start_time": "2024-05-12T11:57:24.370553400Z"
    }
   },
   "outputs": [
    {
     "name": "stdout",
     "output_type": "stream",
     "text": [
      "CMPNN\n",
      "{'GIN': <class 'MolRep.Models.graph_based.GIN.GIN'>, 'ECC': <class 'MolRep.Models.graph_based.ECC.ECC'>, 'DGCNN': <class 'MolRep.Models.graph_based.DGCNN.DGCNN'>, 'DiffPool': <class 'MolRep.Models.graph_based.DiffPool.DiffPool'>, 'GraphSAGE': <class 'MolRep.Models.graph_based.GraphSAGE.GraphSAGE'>, 'GAT': <class 'MolRep.Models.graph_based.GAT.GAT'>, 'GraphNet': <class 'MolRep.Models.graph_based.GraphNet.GraphNet'>, 'MPNN': <class 'MolRep.Models.graph_based.MPNN.MPNN'>, 'CMPNN': <class 'MolRep.Models.graph_based.CMPNN.CMPNN'>, 'DMPNN': <class 'MolRep.Models.graph_based.DMPNN.DMPNN'>, 'MAT': <class 'MolRep.Models.sequence_based.MAT.MAT'>, 'CoMPT': <class 'MolRep.Models.sequence_based.CoMPT.CoMPT'>, 'BiLSTM': <class 'MolRep.Models.sequence_based.BiLSTM.BiLSTM'>, 'SALSTM': <class 'MolRep.Models.sequence_based.SALSTM.SALSTM'>, 'Transformer': <class 'MolRep.Models.sequence_based.Transformer.Transformer'>, 'VAE': <class 'MolRep.Models.unsupervised_based.VAE.VAE'>, 'RandomForest': <class 'MolRep.Models.unsupervised_based.RandomForest.RandomForest'>, 'XGboost': <class 'MolRep.Models.unsupervised_based.XGboost.XGboost'>, 'PLNLP': <class 'MolRep.Interactions.link_models.PLNLP.PLNLP.PLNLP'>, 'CFLP': <class 'MolRep.Interactions.link_models.CFLP.CFLP.CFLP'>}\n"
     ]
    },
    {
     "ename": "TypeError",
     "evalue": "expected str, bytes or os.PathLike object, not NoneType",
     "output_type": "error",
     "traceback": [
      "\u001B[1;31m---------------------------------------------------------------------------\u001B[0m",
      "\u001B[1;31mTypeError\u001B[0m                                 Traceback (most recent call last)",
      "Cell \u001B[1;32mIn[3], line 1\u001B[0m\n\u001B[1;32m----> 1\u001B[0m dataset_config, dataset, model_configurations, model_selector, exp_path \u001B[38;5;241m=\u001B[39m \u001B[43mMolRep\u001B[49m\u001B[38;5;241;43m.\u001B[39;49m\u001B[43mconstruct_dataset\u001B[49m\u001B[43m(\u001B[49m\n\u001B[0;32m      2\u001B[0m \u001B[43m        \u001B[49m\u001B[43mdataset_name\u001B[49m\u001B[43m \u001B[49m\u001B[38;5;241;43m=\u001B[39;49m\u001B[43m \u001B[49m\u001B[43mDATASET_NAME\u001B[49m\u001B[43m,\u001B[49m\n\u001B[0;32m      3\u001B[0m \u001B[43m        \u001B[49m\u001B[43mmodel_name\u001B[49m\u001B[43m \u001B[49m\u001B[38;5;241;43m=\u001B[39;49m\u001B[43m \u001B[49m\u001B[43mMODEL_NAME\u001B[49m\u001B[43m,\u001B[49m\n\u001B[0;32m      4\u001B[0m \u001B[43m        \u001B[49m\u001B[43minner_k\u001B[49m\u001B[43m \u001B[49m\u001B[38;5;241;43m=\u001B[39;49m\u001B[43m \u001B[49m\u001B[43m_FOLDS\u001B[49m\u001B[43m,\u001B[49m\n\u001B[0;32m      5\u001B[0m \u001B[43m        \u001B[49m\u001B[43mconfig_dir\u001B[49m\u001B[43m \u001B[49m\u001B[38;5;241;43m=\u001B[39;49m\u001B[43m \u001B[49m\u001B[43mMODEL_CONFIG_DIR\u001B[49m\u001B[43m,\u001B[49m\n\u001B[0;32m      6\u001B[0m \u001B[43m        \u001B[49m\u001B[43mdatasets_dir\u001B[49m\u001B[43m \u001B[49m\u001B[38;5;241;43m=\u001B[39;49m\u001B[43m \u001B[49m\u001B[43mDATASET_DIR\u001B[49m\u001B[43m,\u001B[49m\n\u001B[0;32m      7\u001B[0m \u001B[43m        \u001B[49m\u001B[43moutput_dir\u001B[49m\u001B[38;5;241;43m=\u001B[39;49m\u001B[43mOUTPUT_DIR\u001B[49m\n\u001B[0;32m      8\u001B[0m \u001B[43m)\u001B[49m\n",
      "File \u001B[1;32m~\\PycharmProjects\\MolRep\\MolRep\\MolRep.py:89\u001B[0m, in \u001B[0;36mconstruct_dataset\u001B[1;34m(dataset_name, model_name, inner_k, outer_k, dataset_path, smiles_column, target_columns, task_type, metric_type, split_type, additional_info, test_size, validation_size, inner_processes, seed, config_dir, datasets_dir, output_dir)\u001B[0m\n\u001B[0;32m     85\u001B[0m \u001B[38;5;66;03m# if split_type == 'defined' and holdout_test_size == 0:\u001B[39;00m\n\u001B[0;32m     86\u001B[0m \u001B[38;5;66;03m#     holdout_test_size = 0.1\u001B[39;00m\n\u001B[0;32m     87\u001B[0m exp_path \u001B[38;5;241m=\u001B[39m os\u001B[38;5;241m.\u001B[39mpath\u001B[38;5;241m.\u001B[39mjoin(output_dir, \u001B[38;5;124mf\u001B[39m\u001B[38;5;124m'\u001B[39m\u001B[38;5;132;01m{\u001B[39;00mmodel_configuration\u001B[38;5;241m.\u001B[39mexp_name\u001B[38;5;132;01m}\u001B[39;00m\u001B[38;5;124m_\u001B[39m\u001B[38;5;132;01m{\u001B[39;00mdataset_configuration\u001B[38;5;241m.\u001B[39mexp_name\u001B[38;5;132;01m}\u001B[39;00m\u001B[38;5;124m_assessment\u001B[39m\u001B[38;5;124m'\u001B[39m)\n\u001B[1;32m---> 89\u001B[0m dataset \u001B[38;5;241m=\u001B[39m \u001B[43mDatasetWrapper\u001B[49m\u001B[43m(\u001B[49m\u001B[43mdataset_config\u001B[49m\u001B[38;5;241;43m=\u001B[39;49m\u001B[43mdataset_configuration\u001B[49m\u001B[43m,\u001B[49m\n\u001B[0;32m     90\u001B[0m \u001B[43m                         \u001B[49m\u001B[43mmodel_name\u001B[49m\u001B[38;5;241;43m=\u001B[39;49m\u001B[43mmodel_configuration\u001B[49m\u001B[38;5;241;43m.\u001B[39;49m\u001B[43mexp_name\u001B[49m\u001B[43m,\u001B[49m\n\u001B[0;32m     91\u001B[0m \u001B[43m                         \u001B[49m\u001B[43msplit_dir\u001B[49m\u001B[38;5;241;43m=\u001B[39;49m\u001B[43msplit_dir\u001B[49m\u001B[43m,\u001B[49m\u001B[43m \u001B[49m\u001B[43mfeatures_dir\u001B[49m\u001B[38;5;241;43m=\u001B[39;49m\u001B[43mdata_dir\u001B[49m\u001B[43m,\u001B[49m\n\u001B[0;32m     92\u001B[0m \u001B[43m                         \u001B[49m\u001B[43mouter_k\u001B[49m\u001B[38;5;241;43m=\u001B[39;49m\u001B[43mouter_k\u001B[49m\u001B[43m,\u001B[49m\u001B[43m \u001B[49m\u001B[43minner_k\u001B[49m\u001B[38;5;241;43m=\u001B[39;49m\u001B[43minner_k\u001B[49m\u001B[43m,\u001B[49m\u001B[43m \u001B[49m\u001B[43mseed\u001B[49m\u001B[38;5;241;43m=\u001B[39;49m\u001B[43mseed\u001B[49m\u001B[43m,\u001B[49m\u001B[43m \u001B[49m\n\u001B[0;32m     93\u001B[0m \u001B[43m                         \u001B[49m\u001B[43mtest_size\u001B[49m\u001B[38;5;241;43m=\u001B[39;49m\u001B[43mtest_size\u001B[49m\u001B[43m,\u001B[49m\u001B[43m \u001B[49m\u001B[43mvalidation_size\u001B[49m\u001B[38;5;241;43m=\u001B[39;49m\u001B[43mvalidation_size\u001B[49m\u001B[43m)\u001B[49m\n\u001B[0;32m     95\u001B[0m \u001B[38;5;28;01mif\u001B[39;00m inner_k \u001B[38;5;129;01mis\u001B[39;00m \u001B[38;5;129;01mnot\u001B[39;00m \u001B[38;5;28;01mNone\u001B[39;00m:\n\u001B[0;32m     96\u001B[0m     model_selector \u001B[38;5;241m=\u001B[39m KFoldSelector(folds\u001B[38;5;241m=\u001B[39minner_k, max_processes\u001B[38;5;241m=\u001B[39minner_processes)\n",
      "File \u001B[1;32m~\\PycharmProjects\\MolRep\\MolRep\\Evaluations\\DatasetWrapper.py:58\u001B[0m, in \u001B[0;36mDatasetWrapper.__init__\u001B[1;34m(self, dataset_config, model_name, outer_k, inner_k, seed, test_size, validation_size, split_dir, features_dir)\u001B[0m\n\u001B[0;32m     55\u001B[0m \u001B[38;5;28mself\u001B[39m\u001B[38;5;241m.\u001B[39mseed \u001B[38;5;241m=\u001B[39m seed\n\u001B[0;32m     57\u001B[0m \u001B[38;5;28mself\u001B[39m\u001B[38;5;241m.\u001B[39mkfold_class \u001B[38;5;241m=\u001B[39m KFold \u001B[38;5;28;01mif\u001B[39;00m \u001B[38;5;28mself\u001B[39m\u001B[38;5;241m.\u001B[39msplit_type \u001B[38;5;241m==\u001B[39m \u001B[38;5;124m'\u001B[39m\u001B[38;5;124mrandom\u001B[39m\u001B[38;5;124m'\u001B[39m \u001B[38;5;129;01mor\u001B[39;00m \u001B[38;5;28mself\u001B[39m\u001B[38;5;241m.\u001B[39msplit_type \u001B[38;5;241m==\u001B[39m \u001B[38;5;124m'\u001B[39m\u001B[38;5;124mdefined\u001B[39m\u001B[38;5;124m'\u001B[39m \u001B[38;5;28;01melse\u001B[39;00m StratifiedKFold\n\u001B[1;32m---> 58\u001B[0m \u001B[38;5;28;43mself\u001B[39;49m\u001B[38;5;241;43m.\u001B[39;49m\u001B[43m_load_raw_data\u001B[49m\u001B[43m(\u001B[49m\u001B[43m)\u001B[49m\n\u001B[0;32m     60\u001B[0m \u001B[38;5;28mself\u001B[39m\u001B[38;5;241m.\u001B[39mfeatures_dir \u001B[38;5;241m=\u001B[39m Path(features_dir)\n\u001B[0;32m     61\u001B[0m \u001B[38;5;28mself\u001B[39m\u001B[38;5;241m.\u001B[39mfeatures_path \u001B[38;5;241m=\u001B[39m \u001B[38;5;28mself\u001B[39m\u001B[38;5;241m.\u001B[39mfeatures_dir \u001B[38;5;241m/\u001B[39m \u001B[38;5;124mf\u001B[39m\u001B[38;5;124m\"\u001B[39m\u001B[38;5;132;01m{\u001B[39;00m\u001B[38;5;28mself\u001B[39m\u001B[38;5;241m.\u001B[39mdataset_name\u001B[38;5;132;01m}\u001B[39;00m\u001B[38;5;124m\"\u001B[39m \u001B[38;5;241m/\u001B[39m \u001B[38;5;124mf\u001B[39m\u001B[38;5;124m\"\u001B[39m\u001B[38;5;132;01m{\u001B[39;00m\u001B[38;5;28mself\u001B[39m\u001B[38;5;241m.\u001B[39mmodel_name\u001B[38;5;132;01m}\u001B[39;00m\u001B[38;5;124m.pt\u001B[39m\u001B[38;5;124m\"\u001B[39m\n",
      "File \u001B[1;32m~\\PycharmProjects\\MolRep\\MolRep\\Evaluations\\DatasetWrapper.py:140\u001B[0m, in \u001B[0;36mDatasetWrapper._load_raw_data\u001B[1;34m(self)\u001B[0m\n\u001B[0;32m    137\u001B[0m \u001B[38;5;28mself\u001B[39m\u001B[38;5;241m.\u001B[39mtarget_cols \u001B[38;5;241m=\u001B[39m \u001B[38;5;28mself\u001B[39m\u001B[38;5;241m.\u001B[39mdataset_config[\u001B[38;5;124m\"\u001B[39m\u001B[38;5;124mtarget_columns\u001B[39m\u001B[38;5;124m\"\u001B[39m]\n\u001B[0;32m    138\u001B[0m \u001B[38;5;28mself\u001B[39m\u001B[38;5;241m.\u001B[39mnum_tasks \u001B[38;5;241m=\u001B[39m \u001B[38;5;28mlen\u001B[39m(\u001B[38;5;28mself\u001B[39m\u001B[38;5;241m.\u001B[39mtarget_cols)\n\u001B[1;32m--> 140\u001B[0m dataset_path \u001B[38;5;241m=\u001B[39m \u001B[43mPath\u001B[49m\u001B[43m(\u001B[49m\u001B[38;5;28;43mself\u001B[39;49m\u001B[38;5;241;43m.\u001B[39;49m\u001B[43mdataset_path\u001B[49m\u001B[43m)\u001B[49m\n\u001B[0;32m    141\u001B[0m \u001B[38;5;28;01mif\u001B[39;00m \u001B[38;5;28mself\u001B[39m\u001B[38;5;241m.\u001B[39mdataset_name\u001B[38;5;241m.\u001B[39mstartswith(\u001B[38;5;124m'\u001B[39m\u001B[38;5;124mogb\u001B[39m\u001B[38;5;124m'\u001B[39m):\n\u001B[0;32m    142\u001B[0m     \u001B[38;5;28mself\u001B[39m\u001B[38;5;241m.\u001B[39mwhole_data_df \u001B[38;5;241m=\u001B[39m pd\u001B[38;5;241m.\u001B[39mread_csv(os\u001B[38;5;241m.\u001B[39mpath\u001B[38;5;241m.\u001B[39mjoin(dataset_path, \u001B[38;5;28mself\u001B[39m\u001B[38;5;241m.\u001B[39mdataset_name\u001B[38;5;241m.\u001B[39mreplace(\u001B[38;5;124m'\u001B[39m\u001B[38;5;124m-\u001B[39m\u001B[38;5;124m'\u001B[39m,\u001B[38;5;124m'\u001B[39m\u001B[38;5;124m_\u001B[39m\u001B[38;5;124m'\u001B[39m), \u001B[38;5;124m'\u001B[39m\u001B[38;5;124mmapping\u001B[39m\u001B[38;5;124m'\u001B[39m, \u001B[38;5;124m'\u001B[39m\u001B[38;5;124mmol.csv.gz\u001B[39m\u001B[38;5;124m'\u001B[39m), compression\u001B[38;5;241m=\u001B[39m\u001B[38;5;124m'\u001B[39m\u001B[38;5;124mgzip\u001B[39m\u001B[38;5;124m'\u001B[39m, header\u001B[38;5;241m=\u001B[39m\u001B[38;5;241m0\u001B[39m)\n",
      "File \u001B[1;32m~\\AppData\\Local\\Programs\\Python\\Python39\\lib\\pathlib.py:1082\u001B[0m, in \u001B[0;36mPath.__new__\u001B[1;34m(cls, *args, **kwargs)\u001B[0m\n\u001B[0;32m   1080\u001B[0m \u001B[38;5;28;01mif\u001B[39;00m \u001B[38;5;28mcls\u001B[39m \u001B[38;5;129;01mis\u001B[39;00m Path:\n\u001B[0;32m   1081\u001B[0m     \u001B[38;5;28mcls\u001B[39m \u001B[38;5;241m=\u001B[39m WindowsPath \u001B[38;5;28;01mif\u001B[39;00m os\u001B[38;5;241m.\u001B[39mname \u001B[38;5;241m==\u001B[39m \u001B[38;5;124m'\u001B[39m\u001B[38;5;124mnt\u001B[39m\u001B[38;5;124m'\u001B[39m \u001B[38;5;28;01melse\u001B[39;00m PosixPath\n\u001B[1;32m-> 1082\u001B[0m \u001B[38;5;28mself\u001B[39m \u001B[38;5;241m=\u001B[39m \u001B[38;5;28;43mcls\u001B[39;49m\u001B[38;5;241;43m.\u001B[39;49m\u001B[43m_from_parts\u001B[49m\u001B[43m(\u001B[49m\u001B[43margs\u001B[49m\u001B[43m,\u001B[49m\u001B[43m \u001B[49m\u001B[43minit\u001B[49m\u001B[38;5;241;43m=\u001B[39;49m\u001B[38;5;28;43;01mFalse\u001B[39;49;00m\u001B[43m)\u001B[49m\n\u001B[0;32m   1083\u001B[0m \u001B[38;5;28;01mif\u001B[39;00m \u001B[38;5;129;01mnot\u001B[39;00m \u001B[38;5;28mself\u001B[39m\u001B[38;5;241m.\u001B[39m_flavour\u001B[38;5;241m.\u001B[39mis_supported:\n\u001B[0;32m   1084\u001B[0m     \u001B[38;5;28;01mraise\u001B[39;00m \u001B[38;5;167;01mNotImplementedError\u001B[39;00m(\u001B[38;5;124m\"\u001B[39m\u001B[38;5;124mcannot instantiate \u001B[39m\u001B[38;5;132;01m%r\u001B[39;00m\u001B[38;5;124m on your system\u001B[39m\u001B[38;5;124m\"\u001B[39m\n\u001B[0;32m   1085\u001B[0m                               \u001B[38;5;241m%\u001B[39m (\u001B[38;5;28mcls\u001B[39m\u001B[38;5;241m.\u001B[39m\u001B[38;5;18m__name__\u001B[39m,))\n",
      "File \u001B[1;32m~\\AppData\\Local\\Programs\\Python\\Python39\\lib\\pathlib.py:707\u001B[0m, in \u001B[0;36mPurePath._from_parts\u001B[1;34m(cls, args, init)\u001B[0m\n\u001B[0;32m    702\u001B[0m \u001B[38;5;129m@classmethod\u001B[39m\n\u001B[0;32m    703\u001B[0m \u001B[38;5;28;01mdef\u001B[39;00m \u001B[38;5;21m_from_parts\u001B[39m(\u001B[38;5;28mcls\u001B[39m, args, init\u001B[38;5;241m=\u001B[39m\u001B[38;5;28;01mTrue\u001B[39;00m):\n\u001B[0;32m    704\u001B[0m     \u001B[38;5;66;03m# We need to call _parse_args on the instance, so as to get the\u001B[39;00m\n\u001B[0;32m    705\u001B[0m     \u001B[38;5;66;03m# right flavour.\u001B[39;00m\n\u001B[0;32m    706\u001B[0m     \u001B[38;5;28mself\u001B[39m \u001B[38;5;241m=\u001B[39m \u001B[38;5;28mobject\u001B[39m\u001B[38;5;241m.\u001B[39m\u001B[38;5;21m__new__\u001B[39m(\u001B[38;5;28mcls\u001B[39m)\n\u001B[1;32m--> 707\u001B[0m     drv, root, parts \u001B[38;5;241m=\u001B[39m \u001B[38;5;28;43mself\u001B[39;49m\u001B[38;5;241;43m.\u001B[39;49m\u001B[43m_parse_args\u001B[49m\u001B[43m(\u001B[49m\u001B[43margs\u001B[49m\u001B[43m)\u001B[49m\n\u001B[0;32m    708\u001B[0m     \u001B[38;5;28mself\u001B[39m\u001B[38;5;241m.\u001B[39m_drv \u001B[38;5;241m=\u001B[39m drv\n\u001B[0;32m    709\u001B[0m     \u001B[38;5;28mself\u001B[39m\u001B[38;5;241m.\u001B[39m_root \u001B[38;5;241m=\u001B[39m root\n",
      "File \u001B[1;32m~\\AppData\\Local\\Programs\\Python\\Python39\\lib\\pathlib.py:691\u001B[0m, in \u001B[0;36mPurePath._parse_args\u001B[1;34m(cls, args)\u001B[0m\n\u001B[0;32m    689\u001B[0m     parts \u001B[38;5;241m+\u001B[39m\u001B[38;5;241m=\u001B[39m a\u001B[38;5;241m.\u001B[39m_parts\n\u001B[0;32m    690\u001B[0m \u001B[38;5;28;01melse\u001B[39;00m:\n\u001B[1;32m--> 691\u001B[0m     a \u001B[38;5;241m=\u001B[39m \u001B[43mos\u001B[49m\u001B[38;5;241;43m.\u001B[39;49m\u001B[43mfspath\u001B[49m\u001B[43m(\u001B[49m\u001B[43ma\u001B[49m\u001B[43m)\u001B[49m\n\u001B[0;32m    692\u001B[0m     \u001B[38;5;28;01mif\u001B[39;00m \u001B[38;5;28misinstance\u001B[39m(a, \u001B[38;5;28mstr\u001B[39m):\n\u001B[0;32m    693\u001B[0m         \u001B[38;5;66;03m# Force-cast str subclasses to str (issue #21127)\u001B[39;00m\n\u001B[0;32m    694\u001B[0m         parts\u001B[38;5;241m.\u001B[39mappend(\u001B[38;5;28mstr\u001B[39m(a))\n",
      "\u001B[1;31mTypeError\u001B[0m: expected str, bytes or os.PathLike object, not NoneType"
     ]
    }
   ],
   "source": [
    "dataset_config, dataset, model_configurations, model_selector, exp_path = MolRep.construct_dataset(\n",
    "        dataset_name = DATASET_NAME,\n",
    "        model_name = MODEL_NAME,\n",
    "        inner_k = _FOLDS,\n",
    "        config_dir = MODEL_CONFIG_DIR,\n",
    "        datasets_dir = DATASET_DIR,\n",
    "        output_dir=OUTPUT_DIR\n",
    ")"
   ]
  },
  {
   "cell_type": "code",
   "execution_count": null,
   "metadata": {
    "id": "jRGNJJhcbMS9",
    "ExecuteTime": {
     "start_time": "2024-05-12T11:51:18.551421600Z"
    }
   },
   "outputs": [],
   "source": [
    "config_id = 0  # the idx of model config since there are more than 100 combinations of hyper-parameters.\n",
    "KFOLD_FOLDER = os.path.join(exp_path, str(_FOLDS) + '_FOLD_MS')\n",
    "exp_config_name = os.path.join(KFOLD_FOLDER, _CONFIG_BASE + str(config_id + 1))\n",
    "config_filename = os.path.join(exp_config_name, _CONFIG_FILENAME)\n",
    "if not os.path.exists(exp_config_name):\n",
    "    os.makedirs(exp_config_name)"
   ]
  },
  {
   "cell_type": "code",
   "execution_count": null,
   "metadata": {
    "colab": {
     "base_uri": "https://localhost:8080/"
    },
    "id": "JAsIwm94bMS9",
    "outputId": "db017d38-7edf-484a-d3c2-1ac1835a6539",
    "ExecuteTime": {
     "start_time": "2024-05-12T11:51:18.554674200Z"
    }
   },
   "outputs": [],
   "source": [
    "config = model_configurations[config_id]\n",
    "\n",
    "# model configs could be change\n",
    "# for example:\n",
    "# config['device'] = 'cpu' or config['batch_size'] = 32\n",
    "\n",
    "logger = Logger(str(os.path.join(exp_config_name, 'experiment.log')), mode='w')\n",
    "logger.log('Configuration: ' + str(config))"
   ]
  },
  {
   "cell_type": "code",
   "execution_count": null,
   "metadata": {
    "id": "opjazeQ4bMS-",
    "ExecuteTime": {
     "start_time": "2024-05-12T11:51:18.557931600Z"
    }
   },
   "outputs": [],
   "source": []
  },
  {
   "cell_type": "code",
   "execution_count": null,
   "metadata": {
    "id": "E45l-NMTbMS-",
    "ExecuteTime": {
     "start_time": "2024-05-12T11:51:18.562182200Z"
    }
   },
   "outputs": [],
   "source": [
    "k_fold_dict = {\n",
    "    'config': config,\n",
    "    'folds': [{} for _ in range(_FOLDS)],\n",
    "    'avg_TR_score': 0.,\n",
    "    'avg_VL_score': 0.,\n",
    "    'std_TR_score': 0.,\n",
    "    'std_VL_score': 0.\n",
    "}"
   ]
  },
  {
   "cell_type": "code",
   "execution_count": null,
   "metadata": {
    "colab": {
     "background_save": true,
     "base_uri": "https://localhost:8080/"
    },
    "id": "FvZtBCclbMS-",
    "outputId": "8073ab63-0dc6-4311-865d-ee29ccd308d7",
    "ExecuteTime": {
     "end_time": "2024-05-12T11:51:18.568013900Z",
     "start_time": "2024-05-12T11:51:18.565966500Z"
    }
   },
   "outputs": [],
   "source": [
    "dataset_getter = MolRep.construct_dataloader(dataset)\n",
    "for k in range(_FOLDS):\n",
    "    logger.log(f\"Training in Fold: {k+1}\")\n",
    "    dataset_getter.set_inner_k(k)\n",
    "\n",
    "    fold_exp_folder = os.path.join(exp_config_name, 'FOLD_' + str(k + 1))\n",
    "    # Create the experiment object which will be responsible for running a specific experiment\n",
    "    experiment = EndToEndExperiment(config, dataset_config, fold_exp_folder)\n",
    "\n",
    "    model_path = os.path.join(fold_exp_folder, f\"{MODEL_NAME}_{DATASET_NAME}_fold_{k}.pt\")\n",
    "    training_score, training_loss, validation_score, best_validation_score, validation_loss = experiment.run_valid(dataset_getter, logger, other={'model_path': model_path})\n",
    "\n",
    "    print('training_score:', training_score, 'validation_score:', best_validation_score, 'best_validation_score:', best_validation_score)\n",
    "    print('training_loss:', training_loss, 'validation_loss:',validation_loss)\n",
    "    logger.log(str(k+1) + ' split, TR Score: ' + str(training_score) +\n",
    "                ' VL Score: ' + str(validation_score))\n",
    "\n",
    "    k_fold_dict['folds'][k]['TR_score'] = training_score\n",
    "    k_fold_dict['folds'][k]['VL_score'] = validation_score\n",
    "\n",
    "tr_scores = np.array([k_fold_dict['folds'][k]['TR_score'] for k in range(_FOLDS)])\n",
    "vl_scores = np.array([k_fold_dict['folds'][k]['VL_score'] for k in range(_FOLDS)])\n",
    "\n",
    "k_fold_dict['avg_TR_score'] = tr_scores.mean()\n",
    "k_fold_dict['std_TR_score'] = tr_scores.std()\n",
    "k_fold_dict['avg_VL_score'] = vl_scores.mean()\n",
    "k_fold_dict['std_VL_score'] = vl_scores.std()\n",
    "\n",
    "\n",
    "log_str = f\"TR avg is %.4f std is %.4f; VL avg is %.4f std is %.4f\" % (\n",
    "            k_fold_dict['avg_TR_score'], k_fold_dict['std_TR_score'], k_fold_dict['avg_VL_score'], k_fold_dict['std_VL_score']\n",
    "        )\n",
    "logger.log(log_str)"
   ]
  },
  {
   "cell_type": "code",
   "execution_count": null,
   "metadata": {
    "colab": {
     "background_save": true
    },
    "id": "e2PnpiOtbMS_",
    "ExecuteTime": {
     "end_time": "2024-05-12T11:51:18.568013900Z",
     "start_time": "2024-05-12T11:51:18.568013900Z"
    }
   },
   "outputs": [],
   "source": []
  }
 ],
 "metadata": {
  "accelerator": "GPU",
  "colab": {
   "gpuType": "T4",
   "provenance": []
  },
  "kernelspec": {
   "display_name": "Python 3 (ipykernel)",
   "language": "python",
   "name": "python3"
  },
  "language_info": {
   "codemirror_mode": {
    "name": "ipython",
    "version": 3
   },
   "file_extension": ".py",
   "mimetype": "text/x-python",
   "name": "python",
   "nbconvert_exporter": "python",
   "pygments_lexer": "ipython3",
   "version": "3.9.13"
  }
 },
 "nbformat": 4,
 "nbformat_minor": 4
}
