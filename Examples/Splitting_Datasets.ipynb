{
 "cells": [
  {
   "cell_type": "code",
   "outputs": [],
   "source": [
    "import pandas as pd\n",
    "from rdkit import Chem\n",
    "import os\n",
    "import random"
   ],
   "metadata": {
    "collapsed": false,
    "ExecuteTime": {
     "end_time": "2024-05-24T11:15:17.940816500Z",
     "start_time": "2024-05-24T11:15:17.901352Z"
    }
   },
   "id": "e442445c7d1b4cdb",
   "execution_count": 27
  },
  {
   "cell_type": "code",
   "execution_count": 28,
   "id": "initial_id",
   "metadata": {
    "collapsed": true,
    "ExecuteTime": {
     "end_time": "2024-05-24T11:15:17.940816500Z",
     "start_time": "2024-05-24T11:15:17.919950600Z"
    }
   },
   "outputs": [],
   "source": [
    "INPUT_DATASET_PATH = '../DataSets/XAI/3MR/toy_label_mw350.csv'\n",
    "DATASETNAME = '3MR'\n",
    "FILTER = 'Halogens' #'Benzene' 'Halogens'\n",
    "SMILESCOL = 'SMILES'\n",
    "OUTPUTDIR = f'../DataSets/Splits/{DATASETNAME}/'"
   ]
  },
  {
   "cell_type": "code",
   "outputs": [],
   "source": [
    "def contains_benzene(smiles):\n",
    "    # Create an RDKit molecule object from the SMILES string\n",
    "    mol = Chem.MolFromSmiles(smiles)\n",
    "    \n",
    "    if mol is None:\n",
    "        raise ValueError(f\"Invalid SMILES string: {smiles}\")\n",
    "\n",
    "    # Define the SMILES for benzene\n",
    "    benzene_smiles = 'c1ccccc1'\n",
    "    benzene = Chem.MolFromSmiles(benzene_smiles)\n",
    "\n",
    "    # Check if the molecule contains a benzene ring\n",
    "    return mol.HasSubstructMatch(benzene)\n",
    "\n",
    "def contains_halogen(smiles):\n",
    "     # Create an RDKit molecule object from the SMILES string\n",
    "    mol = Chem.MolFromSmiles(smiles)\n",
    "    \n",
    "    if mol is None:\n",
    "        raise ValueError(f\"Invalid SMILES string: {smiles}\")\n",
    "    \n",
    "    # List of halogens: F, Cl, Br, I\n",
    "    halogens = ['F', 'Cl', 'Br', 'I']\n",
    "    \n",
    "    for atom in mol.GetAtoms():\n",
    "        symbol = atom.GetSymbol()\n",
    "        if symbol in halogens:\n",
    "            return True\n",
    "    \n",
    "    return False\n",
    "\n",
    "def trim_dataset(df, amt):\n",
    "    rows_to_remove = random.sample(df.index.tolist(), amt)\n",
    "    df.drop(rows_to_remove, inplace=True)"
   ],
   "metadata": {
    "collapsed": false,
    "ExecuteTime": {
     "end_time": "2024-05-24T11:15:17.960233Z",
     "start_time": "2024-05-24T11:15:17.935031600Z"
    }
   },
   "id": "d6f5cdd0a2fcbd02",
   "execution_count": 29
  },
  {
   "cell_type": "code",
   "outputs": [],
   "source": [
    "# Read the data\n",
    "df = pd.read_csv(INPUT_DATASET_PATH)"
   ],
   "metadata": {
    "collapsed": false,
    "ExecuteTime": {
     "end_time": "2024-05-24T11:15:17.979321300Z",
     "start_time": "2024-05-24T11:15:17.950624100Z"
    }
   },
   "id": "b26d31ec23927f18",
   "execution_count": 30
  },
  {
   "cell_type": "code",
   "outputs": [
    {
     "name": "stdout",
     "output_type": "stream",
     "text": [
      "Size containing: 448\n",
      "Size not containing: 2429\n"
     ]
    }
   ],
   "source": [
    "if FILTER == 'Benzene':\n",
    "    contains_filter = contains_benzene\n",
    "elif FILTER == 'Halogens':\n",
    "    contains_filter = contains_halogen\n",
    "else:\n",
    "    raise ValueError(f'Filter {FILTER} not recognized!')\n",
    "\n",
    "# Add a column to test for the filter\n",
    "df['contains_filter'] = df['SMILES'].apply(contains_filter)\n",
    "\n",
    "# Filter the dataset\n",
    "contains_subset = df[df['contains_filter'] == True].copy()\n",
    "not_contains_subset = df[df['contains_filter'] == False].copy()\n",
    "\n",
    "# Remove the extra column from the new subsets\n",
    "contains_subset.drop(columns=['contains_filter'], inplace=True)\n",
    "not_contains_subset.drop(columns=['contains_filter'], inplace=True)\n",
    "\n",
    "print(f'Size containing: {len(contains_subset)}')\n",
    "print(f'Size not containing: {len(not_contains_subset)}')\n",
    "\n",
    "# # Trim the largest dataset, to make them equal in size\n",
    "# if(len(contains_subset) > len(not_contains_subset)):\n",
    "#     trim_dataset(contains_subset, len(contains_subset) - len(not_contains_subset))\n",
    "# elif(len(not_contains_subset) > len(contains_subset)):\n",
    "#     trim_dataset(not_contains_subset, len(not_contains_subset) - len(contains_subset))\n",
    "    "
   ],
   "metadata": {
    "collapsed": false,
    "ExecuteTime": {
     "end_time": "2024-05-24T11:15:18.819650400Z",
     "start_time": "2024-05-24T11:15:17.983574700Z"
    }
   },
   "id": "8922544a88b99f",
   "execution_count": 31
  },
  {
   "cell_type": "code",
   "outputs": [],
   "source": [
    "if not os.path.exists(OUTPUTDIR):\n",
    "        try:\n",
    "            os.makedirs(OUTPUTDIR)\n",
    "            print(f\"Directory '{OUTPUTDIR}' created successfully.\")\n",
    "        except Exception as e:\n",
    "            print(f\"Error creating directory '{OUTPUTDIR}': {e}\")\n",
    "\n",
    "contains_subset.to_csv(os.path.join(OUTPUTDIR, f'contains_{FILTER}.csv'), index=False)\n",
    "not_contains_subset.to_csv(os.path.join(OUTPUTDIR, f'not_contains_{FILTER}.csv'), index=False)"
   ],
   "metadata": {
    "collapsed": false,
    "ExecuteTime": {
     "end_time": "2024-05-24T11:15:18.848632900Z",
     "start_time": "2024-05-24T11:15:18.821841600Z"
    }
   },
   "id": "9809f4870bcb979b",
   "execution_count": 32
  },
  {
   "cell_type": "code",
   "outputs": [
    {
     "name": "stdout",
     "output_type": "stream",
     "text": [
      "        index                                          SMILES  \\\n",
      "0        3236   O=C1c2cccc(OCc3ccc(C(F)(F)F)cc3)c2C(=O)C2OC12   \n",
      "1        3865  C=C(C)C1CC(OC(C)=O)C2(C)CC3OC3(C)CCC=C(C)CCC12   \n",
      "2        5572                     c1ccc2c(C3CO3)c3ccccc3nc2c1   \n",
      "3        5838             COC1C(O)CCC2(CO2)C1C1(C)OC1CC=C(C)C   \n",
      "4        6554             O=C1c2ccccc2C(=O)c2c(NCC3CO3)cccc21   \n",
      "...       ...                                             ...   \n",
      "2872   893759                           CCN1CC=C(c2ccccc2)CC1   \n",
      "2873  1137976                                Cc1ccc2ccncc2c1N   \n",
      "2874   742932           CCN1CCN(CC(=O)c2c[nH]c3ccc(C)cc23)CC1   \n",
      "2875   604244        c1cncc(-c2c[nH]c(C3COCCN3Cc3ccncc3)n2)c1   \n",
      "2876   475546           CCCN(Cc1ccccc1)C(S)=Nc1ccc(C(C)=O)cc1   \n",
      "\n",
      "                   label  label_full  smarts0  smarts1  smarts2  smarts3  \\\n",
      "0     [1, 0, 0, 0, 0, 0]           1        1        0        0        0   \n",
      "1     [1, 0, 0, 0, 0, 0]           1        1        0        0        0   \n",
      "2     [1, 0, 0, 0, 0, 0]           1        1        0        0        0   \n",
      "3     [1, 0, 0, 0, 0, 0]           1        1        0        0        0   \n",
      "4     [1, 0, 0, 0, 0, 0]           1        1        0        0        0   \n",
      "...                  ...         ...      ...      ...      ...      ...   \n",
      "2872  [0, 0, 0, 0, 0, 0]           0        0        0        0        0   \n",
      "2873  [0, 0, 0, 0, 0, 0]           0        0        0        0        0   \n",
      "2874  [0, 0, 0, 0, 0, 0]           0        0        0        0        0   \n",
      "2875  [0, 0, 0, 0, 0, 0]           0        0        0        0        0   \n",
      "2876  [0, 0, 0, 0, 0, 0]           0        0        0        0        0   \n",
      "\n",
      "      smarts4  smarts5       MW splits  contains_filter  \n",
      "0           0        0  348.276  train             True  \n",
      "1           0        0  346.511  train            False  \n",
      "2           0        0  221.259  train            False  \n",
      "3           0        0  282.380  train            False  \n",
      "4           0        0  279.295  train            False  \n",
      "...       ...      ...      ...    ...              ...  \n",
      "2872        0        0  187.286  train            False  \n",
      "2873        0        0  158.204  train            False  \n",
      "2874        0        0  285.391  train            False  \n",
      "2875        0        0  321.384   test            False  \n",
      "2876        0        0  326.465   test            False  \n",
      "\n",
      "[2877 rows x 13 columns]\n"
     ]
    }
   ],
   "source": [
    "print(df)"
   ],
   "metadata": {
    "collapsed": false,
    "ExecuteTime": {
     "end_time": "2024-05-24T11:15:18.858306400Z",
     "start_time": "2024-05-24T11:15:18.840157200Z"
    }
   },
   "id": "e72cc8ed88ae475d",
   "execution_count": 33
  }
 ],
 "metadata": {
  "kernelspec": {
   "display_name": "Python 3",
   "language": "python",
   "name": "python3"
  },
  "language_info": {
   "codemirror_mode": {
    "name": "ipython",
    "version": 2
   },
   "file_extension": ".py",
   "mimetype": "text/x-python",
   "name": "python",
   "nbconvert_exporter": "python",
   "pygments_lexer": "ipython2",
   "version": "2.7.6"
  }
 },
 "nbformat": 4,
 "nbformat_minor": 5
}
