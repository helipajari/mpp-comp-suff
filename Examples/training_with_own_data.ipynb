{
 "cells": [
  {
   "cell_type": "code",
   "execution_count": 1,
   "metadata": {},
   "outputs": [],
   "source": [
    "import os\n",
    "import numpy as np\n",
    "\n",
    "from MolRep import MolRep\n",
    "from MolRep.Utils.logger import Logger\n",
    "from MolRep.Utils.config_from_dict import Config\n",
    "from MolRep.Experiments.experiments import EndToEndExperiment"
   ]
  },
  {
   "cell_type": "code",
   "execution_count": null,
   "metadata": {},
   "outputs": [],
   "source": []
  },
  {
   "cell_type": "code",
   "execution_count": 2,
   "metadata": {},
   "outputs": [],
   "source": [
    "MODEL_CONFIG_DIR = '../MolRep/Configs' # Need to set! The directory of Model Configurations files, such as config_CMPNN.yml.\n",
    "OUTPUT_DIR = '../Outputs/'\n",
    "\n",
    "\n",
    "_CONFIG_BASE = 'config_'\n",
    "_CONFIG_FILENAME = 'config_results.json'\n",
    "\n",
    "_FOLDS = 5\n",
    "MODEL_NAME = 'CMPNN'\n",
    "\n",
    "# define your dataset name\n",
    "DATASET_NAME = 'BBB'  \n",
    "# define the PATH of your data. Could be CSV or SDF format.\n",
    "DATASET_PATH = '../MolRep/Datasets/BBBP/BBBP.csv'\n",
    "# define the column name of SMILES in your data\n",
    "SMILES_COLUMN = 'smiles'\n",
    "# the column names of TARGET NAME in your data. Must be a List.\n",
    "TARGET_COLUMNS = ['p_np']\n",
    "# define the task type. Classification or Regression\n",
    "TASK_TYPE = 'Classification'\n",
    "# define the metric type, such as auc or rmse\n",
    "METRIC_TYPE = 'auc'\n",
    "# define the split data type, such as random, stratified, scaffold. NOTE that stratified only applies to single property\n",
    "SPLIT_TYPE = 'random'"
   ]
  },
  {
   "cell_type": "code",
   "execution_count": null,
   "metadata": {},
   "outputs": [],
   "source": []
  },
  {
   "cell_type": "code",
   "execution_count": 3,
   "metadata": {},
   "outputs": [],
   "source": [
    "dataset_config, dataset, model_configurations, model_selector, exp_path = MolRep.construct_dataset(\n",
    "    dataset_name = DATASET_NAME,\n",
    "    model_name = MODEL_NAME,\n",
    "    dataset_path = DATASET_PATH,\n",
    "    smiles_column = SMILES_COLUMN,\n",
    "    target_columns = TARGET_COLUMNS,\n",
    "    task_type = TASK_TYPE,\n",
    "    metric_type = METRIC_TYPE,\n",
    "    split_type = SPLIT_TYPE,\n",
    "    inner_k = _FOLDS,\n",
    "    config_dir = MODEL_CONFIG_DIR,\n",
    "    output_dir=OUTPUT_DIR\n",
    ")"
   ]
  },
  {
   "cell_type": "code",
   "execution_count": null,
   "metadata": {},
   "outputs": [],
   "source": []
  },
  {
   "cell_type": "code",
   "execution_count": 4,
   "metadata": {},
   "outputs": [],
   "source": [
    "config_id = 0   # the idx of model configs since there are more than 100 combinations of hyper-parameters.\n",
    "KFOLD_FOLDER = os.path.join(exp_path, str(_FOLDS) + '_FOLD_MS')\n",
    "exp_config_name = os.path.join(KFOLD_FOLDER, _CONFIG_BASE + str(config_id + 1))\n",
    "config_filename = os.path.join(exp_config_name, _CONFIG_FILENAME)\n",
    "if not os.path.exists(exp_config_name):\n",
    "    os.makedirs(exp_config_name)"
   ]
  },
  {
   "cell_type": "code",
   "execution_count": null,
   "metadata": {},
   "outputs": [],
   "source": []
  },
  {
   "cell_type": "code",
   "execution_count": 5,
   "metadata": {},
   "outputs": [
    {
     "name": "stdout",
     "output_type": "stream",
     "text": [
      "Configuration: {'model': 'CMPNN', 'device': 'cuda', 'batch_size': 50, 'learning_rate': 0.0001, 'l2': 0, 'hidden_size': 300, 'bias': False, 'depth': 3, 'dropout': 0.0, 'activation': 'ReLU', 'undirected': False, 'ffn_hidden_size': 256, 'ffn_num_layers': 2, 'atom_messages': False, 'no_cache': False, 'optimizer': 'Adam', 'scheduler': {'class': 'NoamLR', 'args': {'warmup_epochs': [2.0], 'step_size': 10, 'max_lr': [0.0001], 'init_lr': [1e-05], 'final_lr': [1e-05]}}, 'early_stopper': {'class': 'Patience', 'args': {'patience': 500, 'use_loss': False}}, 'gradient_clipping': None, 'num_epochs': 30, 'num_lrs': 1, 'features_only': False, 'atom_descriptors': 'None', 'use_input_features': False, 'shuffle': True}\n"
     ]
    }
   ],
   "source": [
    "config = model_configurations[config_id]\n",
    "\n",
    "# model configs could be change\n",
    "# for example:\n",
    "# config['device'] = 'cpu' or config['batch_size'] = 32\n",
    "\n",
    "logger = Logger(str(os.path.join(exp_config_name, 'experiment.log')), mode='w')\n",
    "logger.log('Configuration: ' + str(config))"
   ]
  },
  {
   "cell_type": "code",
   "execution_count": null,
   "metadata": {},
   "outputs": [],
   "source": []
  },
  {
   "cell_type": "code",
   "execution_count": 6,
   "metadata": {},
   "outputs": [],
   "source": [
    "k_fold_dict = {\n",
    "    'config': config,\n",
    "    'folds': [{} for _ in range(_FOLDS)],\n",
    "    'avg_TR_score': 0.,\n",
    "    'avg_VL_score': 0.,\n",
    "    'std_TR_score': 0.,\n",
    "    'std_VL_score': 0.\n",
    "}"
   ]
  },
  {
   "cell_type": "code",
   "execution_count": null,
   "metadata": {},
   "outputs": [
    {
     "name": "stdout",
     "output_type": "stream",
     "text": [
      "Training in Fold: 1\n",
      "[TRAIN] Epoch: 1, train loss: 0.607752 train auc: 0.505659\n",
      "[VALID] Epoch: 1, valid loss: 0.573201 valid auc: 0.521232\n",
      "- Elapsed time: 9.32s , Time estimation in a fold: 4.66min\n",
      "[TRAIN] Epoch: 10, train loss: 0.338342 train auc: 0.886640\n",
      "[VALID] Epoch: 10, valid loss: 0.513750 valid auc: 0.854729\n",
      "- Elapsed time: 2.92s , Time estimation in a fold: 1.46min\n",
      "[TRAIN] Epoch: 20, train loss: 0.224438 train auc: 0.953637\n",
      "[VALID] Epoch: 20, valid loss: 0.481759 valid auc: 0.918702\n",
      "- Elapsed time: 2.22s , Time estimation in a fold: 1.11min\n",
      "[TRAIN] Epoch: 30, train loss: 0.147345 train auc: 0.980014\n",
      "[VALID] Epoch: 30, valid loss: 0.467833 valid auc: 0.943742\n",
      "- Elapsed time: 3.27s , Time estimation in a fold: 1.63min\n",
      "1 split, TR Score: 0.9800138836299382 VL Score: 0.9437416233532739\n",
      "Training in Fold: 2\n",
      "[TRAIN] Epoch: 1, train loss: 0.582747 train auc: 0.514477\n",
      "[VALID] Epoch: 1, valid loss: 0.550019 valid auc: 0.605332\n",
      "- Elapsed time: 3.34s , Time estimation in a fold: 1.67min\n",
      "[TRAIN] Epoch: 10, train loss: 0.254741 train auc: 0.941199\n",
      "[VALID] Epoch: 10, valid loss: 0.460684 valid auc: 0.960377\n",
      "- Elapsed time: 2.92s , Time estimation in a fold: 1.46min\n",
      "[TRAIN] Epoch: 20, train loss: 0.149237 train auc: 0.979997\n",
      "[VALID] Epoch: 20, valid loss: 0.448692 valid auc: 0.962457\n",
      "- Elapsed time: 3.18s , Time estimation in a fold: 1.59min\n",
      "[TRAIN] Epoch: 30, train loss: 0.078959 train auc: 0.993155\n",
      "[VALID] Epoch: 30, valid loss: 0.445253 valid auc: 0.954969\n",
      "- Elapsed time: 2.87s , Time estimation in a fold: 1.43min\n",
      "2 split, TR Score: 0.9660283152665234 VL Score: 0.9626304295074011\n",
      "Training in Fold: 3\n",
      "[TRAIN] Epoch: 1, train loss: 0.561565 train auc: 0.533038\n",
      "[VALID] Epoch: 1, valid loss: 0.571041 valid auc: 0.740837\n",
      "- Elapsed time: 2.91s , Time estimation in a fold: 1.45min\n"
     ]
    }
   ],
   "source": [
    "dataset_getter = MolRep.construct_dataloader(dataset)\n",
    "for k in range(_FOLDS):\n",
    "    logger.log(f\"Training in Fold: {k+1}\")\n",
    "    dataset_getter.set_inner_k(k)\n",
    "\n",
    "    fold_exp_folder = os.path.join(exp_config_name, 'FOLD_' + str(k + 1))\n",
    "    # Create the experiment object which will be responsible for running a specific experiment\n",
    "    experiment = EndToEndExperiment(config, dataset_config, fold_exp_folder)\n",
    "\n",
    "    model_path = os.path.join(fold_exp_folder, f\"{MODEL_NAME}_{DATASET_NAME}_fold_{k}.pt\")\n",
    "    training_score, validation_score = experiment.run_valid(dataset_getter, logger, other={'model_path': model_path})\n",
    "\n",
    "    # print('training_score:', training_score, 'validation_score:',validation_score)\n",
    "    logger.log(str(k+1) + ' split, TR Score: ' + str(training_score) +\n",
    "                ' VL Score: ' + str(validation_score))\n",
    "\n",
    "    k_fold_dict['folds'][k]['TR_score'] = training_score\n",
    "    k_fold_dict['folds'][k]['VL_score'] = validation_score\n",
    "\n",
    "tr_scores = np.array([k_fold_dict['folds'][k]['TR_score'] for k in range(_FOLDS)])\n",
    "vl_scores = np.array([k_fold_dict['folds'][k]['VL_score'] for k in range(_FOLDS)])\n",
    "\n",
    "k_fold_dict['avg_TR_score'] = tr_scores.mean()\n",
    "k_fold_dict['std_TR_score'] = tr_scores.std()\n",
    "k_fold_dict['avg_VL_score'] = vl_scores.mean()\n",
    "k_fold_dict['std_VL_score'] = vl_scores.std()\n",
    "\n",
    "log_str = f\"TR avg is %.4f std is %.4f; VL avg is %.4f std is %.4f\" % (\n",
    "            k_fold_dict['avg_TR_score'], k_fold_dict['std_TR_score'], k_fold_dict['avg_VL_score'], k_fold_dict['std_VL_score']\n",
    "        )\n",
    "logger.log(log_str)"
   ]
  },
  {
   "cell_type": "code",
   "execution_count": null,
   "metadata": {},
   "outputs": [],
   "source": []
  }
 ],
 "metadata": {
  "kernelspec": {
   "display_name": "Python [conda env:MolRep]",
   "language": "python",
   "name": "conda-env-MolRep-py"
  },
  "language_info": {
   "codemirror_mode": {
    "name": "ipython",
    "version": 3
   },
   "file_extension": ".py",
   "mimetype": "text/x-python",
   "name": "python",
   "nbconvert_exporter": "python",
   "pygments_lexer": "ipython3",
   "version": "3.6.11"
  }
 },
 "nbformat": 4,
 "nbformat_minor": 2
}
