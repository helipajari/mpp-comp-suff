{
 "cells": [
  {
   "cell_type": "code",
   "execution_count": 8,
   "metadata": {},
   "outputs": [],
   "source": [
    "import os\n",
    "from MolRep import MolRep\n",
    "from MolRep.Utils.logger import Logger\n",
    "from MolRep.Utils.config_from_dict import Config\n",
    "from MolRep.Experiments.experiments import EndToEndExperiment"
   ]
  },
  {
   "cell_type": "code",
   "execution_count": null,
   "metadata": {},
   "outputs": [],
   "source": []
  },
  {
   "cell_type": "code",
   "execution_count": 9,
   "metadata": {},
   "outputs": [],
   "source": [
    "MODEL_CONFIG_DIR = '../MolRep/Configs' # Need to set! The directory of Model Configurations files, such as config_CMPNN.yml.\n",
    "OUTPUT_DIR = '../Outputs/'\n",
    "\n",
    "_CONFIG_BASE = 'config_'\n",
    "_CONFIG_FILENAME = 'config_results.json'\n",
    "\n",
    "_FOLDS = 5\n",
    "MODEL_NAME = 'CMPNN'\n",
    "\n",
    "\n",
    "# define your dataset name\n",
    "DATASET_NAME = 'BBB'  \n",
    "# define the PATH of your data. Could be CSV or SDF format.\n",
    "DATASET_PATH = '../MolRep/Datasets/BBBP/BBBP.csv'\n",
    "# define the column name of SMILES in your data\n",
    "SMILES_COLUMN = 'smiles'\n",
    "# the column names of TARGET NAME in your data. Must be a List.\n",
    "TARGET_COLUMNS = ['p_np']\n",
    "# define the task type. Classification or Regression\n",
    "TASK_TYPE = 'Classification'\n",
    "# define the metric type, such as auc or rmse\n",
    "METRIC_TYPE = 'auc'\n",
    "# define the split data type, such as random, stratified, scaffold. NOTE that stratified only applies to single property\n",
    "SPLIT_TYPE = 'random'"
   ]
  },
  {
   "cell_type": "code",
   "execution_count": 10,
   "metadata": {},
   "outputs": [],
   "source": [
    "dataset_config, dataset, model_configurations, model_selector, exp_path = MolRep.construct_dataset(\n",
    "    dataset_name = DATASET_NAME,\n",
    "    model_name = MODEL_NAME,\n",
    "    dataset_path = DATASET_PATH,\n",
    "    smiles_column = SMILES_COLUMN,\n",
    "    target_columns = TARGET_COLUMNS,\n",
    "    task_type = TASK_TYPE,\n",
    "    metric_type = METRIC_TYPE,\n",
    "    split_type = SPLIT_TYPE,\n",
    "    holdout_test_size=-1,\n",
    "    config_dir = MODEL_CONFIG_DIR,\n",
    "    output_dir=OUTPUT_DIR\n",
    ")"
   ]
  },
  {
   "cell_type": "code",
   "execution_count": null,
   "metadata": {},
   "outputs": [],
   "source": []
  },
  {
   "cell_type": "code",
   "execution_count": 11,
   "metadata": {},
   "outputs": [],
   "source": [
    "logger = Logger(str(os.path.join(exp_path, 'testing.log')), mode='w')"
   ]
  },
  {
   "cell_type": "code",
   "execution_count": 12,
   "metadata": {},
   "outputs": [],
   "source": [
    "config = model_configurations[0]\n",
    "experiment = EndToEndExperiment(config, dataset_config, exp_path)"
   ]
  },
  {
   "cell_type": "code",
   "execution_count": null,
   "metadata": {},
   "outputs": [],
   "source": []
  },
  {
   "cell_type": "code",
   "execution_count": 13,
   "metadata": {},
   "outputs": [],
   "source": [
    "dataset_getter = MolRep.construct_dataloader(dataset)\n",
    "dataset_getter.set_outer_k(None)\n",
    "dataset_getter.set_inner_k(None)"
   ]
  },
  {
   "cell_type": "code",
   "execution_count": 14,
   "metadata": {},
   "outputs": [
    {
     "name": "stdout",
     "output_type": "stream",
     "text": [
      "Loading pretrained parameter \"encoder.encoder.W_i_atom.weight\".\n",
      "Loading pretrained parameter \"encoder.encoder.W_i_bond.weight\".\n",
      "Loading pretrained parameter \"encoder.encoder.W_h_atom.weight\".\n",
      "Loading pretrained parameter \"encoder.encoder.W_h_0.weight\".\n",
      "Loading pretrained parameter \"encoder.encoder.W_h_1.weight\".\n",
      "Loading pretrained parameter \"encoder.encoder.W_o.weight\".\n",
      "Loading pretrained parameter \"encoder.encoder.W_o.bias\".\n",
      "Loading pretrained parameter \"encoder.encoder.gru.bias\".\n",
      "Loading pretrained parameter \"encoder.encoder.gru.gru.weight_ih_l0\".\n",
      "Loading pretrained parameter \"encoder.encoder.gru.gru.weight_hh_l0\".\n",
      "Loading pretrained parameter \"encoder.encoder.gru.gru.bias_ih_l0\".\n",
      "Loading pretrained parameter \"encoder.encoder.gru.gru.bias_hh_l0\".\n",
      "Loading pretrained parameter \"encoder.encoder.gru.gru.weight_ih_l0_reverse\".\n",
      "Loading pretrained parameter \"encoder.encoder.gru.gru.weight_hh_l0_reverse\".\n",
      "Loading pretrained parameter \"encoder.encoder.gru.gru.bias_ih_l0_reverse\".\n",
      "Loading pretrained parameter \"encoder.encoder.gru.gru.bias_hh_l0_reverse\".\n",
      "Loading pretrained parameter \"encoder.encoder.lr.weight\".\n",
      "Loading pretrained parameter \"ffn.1.weight\".\n",
      "Loading pretrained parameter \"ffn.1.bias\".\n",
      "Loading pretrained parameter \"ffn.4.weight\".\n",
      "Loading pretrained parameter \"ffn.4.bias\".\n",
      "Moving model to cuda\n",
      "[TEST] test loss: 0.442929 test auc: 0.976973\n"
     ]
    }
   ],
   "source": [
    "model_path = '../Outputs/CMPNN_BBB_assessment/5_FOLD_MS/config_1/FOLD_1/CMPNN_BBB_fold_0.pt'\n",
    "preds, labels, test_score = experiment.run_independent_test(dataset_getter, logger, other={'model_path': model_path})"
   ]
  },
  {
   "cell_type": "code",
   "execution_count": null,
   "metadata": {},
   "outputs": [],
   "source": []
  }
 ],
 "metadata": {
  "kernelspec": {
   "display_name": "Python [conda env:MolRep]",
   "language": "python",
   "name": "conda-env-MolRep-py"
  },
  "language_info": {
   "codemirror_mode": {
    "name": "ipython",
    "version": 3
   },
   "file_extension": ".py",
   "mimetype": "text/x-python",
   "name": "python",
   "nbconvert_exporter": "python",
   "pygments_lexer": "ipython3",
   "version": "3.6.11"
  }
 },
 "nbformat": 4,
 "nbformat_minor": 2
}
